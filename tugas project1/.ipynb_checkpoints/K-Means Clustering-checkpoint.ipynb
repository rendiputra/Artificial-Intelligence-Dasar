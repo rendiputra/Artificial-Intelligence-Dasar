{
 "cells": [
  {
   "cell_type": "markdown",
   "metadata": {},
   "source": [
    "## Import library dan dataset Mall_Customers.csv"
   ]
  },
  {
   "cell_type": "code",
   "execution_count": null,
   "metadata": {},
   "outputs": [],
   "source": [
    "import pandas as pd\n",
    "## Direktori dataset\n",
    "dir_segmentation  = \"Mall_Customers.csv\"  \n",
    "\n",
    "## Membaca data csv ke Dataframe Pandas\n",
    "df = pd.read_csv(dir_segmentation, index_col=0) #membaca file csv ke pandas DataFrame dg kolom 0 sbg index"
   ]
  },
  {
   "cell_type": "markdown",
   "metadata": {},
   "source": [
    "## Tes isi data"
   ]
  },
  {
   "cell_type": "code",
   "execution_count": null,
   "metadata": {},
   "outputs": [],
   "source": [
    "print(\"Data kosong tidak? \", df.isnull().any().any())"
   ]
  },
  {
   "cell_type": "markdown",
   "metadata": {},
   "source": [
    "## Nilai statistik dasar dari data Mall Customers"
   ]
  },
  {
   "cell_type": "code",
   "execution_count": null,
   "metadata": {},
   "outputs": [],
   "source": [
    "df.describe()"
   ]
  },
  {
   "cell_type": "markdown",
   "metadata": {
    "scrolled": true
   },
   "source": [
    "## Menentukan Jumlah Cluster"
   ]
  },
  {
   "cell_type": "code",
   "execution_count": null,
   "metadata": {},
   "outputs": [],
   "source": [
    "df_segm= df[[\"Age\", \"Annual Income (k$)\", \"Spending Score (1-100)\"]].copy() #mengcopy kolom Age, Annual Income, Spending Score ke DataFrame baru df_segm\n",
    "\n",
    "from sklearn.preprocessing import StandardScaler\n",
    "scaler = StandardScaler()\n",
    "df_std = scaler.fit_transform(df_segm)\n",
    "from sklearn.cluster import KMeans\n",
    "\n",
    "#Menentukan nilai K (jumlah cluster)\n",
    "wcss = [] #menyimpan nilai Within-Cluster-Sum-of-Squares utk jml cluster 1 hingga 11\n",
    "for i in range(1,11):\n",
    "  kmeans = KMeans(n_clusters = i, init = 'k-means++')\n",
    "  kmeans.fit(df_std)\n",
    "  wcss.append(kmeans.inertia_) #return wcss value for an initialized cluster\n",
    "  \n",
    "#Mengeplot grafik nilai wcss  \n",
    "plt.figure(figsize = (10,6)) #membuat object figure (gambar) dg size 12x9 inch\n",
    "plt.plot(range(1,11), wcss, marker = 'o', linestyle = '--') #mengeplot nilai wcss utk jml cluster 1 hingga 11\n",
    "plt.xlabel('Number of cluster') #set label sumbu x\n",
    "plt.ylabel('WCSS') #set label sumbu y\n",
    "plt.title ('Elbow Point Graph') #set judul plot\n",
    "plt.show() #menampilkan plot## Visualizing the relationship between Petal and target classes"
   ]
  },
  {
   "cell_type": "markdown",
   "metadata": {},
   "source": [
    "## Menghitung silhouette score"
   ]
  },
  {
   "cell_type": "code",
   "execution_count": null,
   "metadata": {},
   "outputs": [],
   "source": [
    "from sklearn.metrics import silhouette_samples, silhouette_score\n",
    "range_n_clusters = [2, 3, 4, 5, 6, 7, 8, 9, 10, 11]\n",
    "#Menentukan jumlah cluster dengan Silhouette Analysis\n",
    "for n_clusters in range_n_clusters:\n",
    "    clusterer = KMeans(n_clusters=n_clusters)\n",
    "    preds = clusterer.fit_predict(df_std)\n",
    "    centers = clusterer.cluster_centers_\n",
    "\n",
    "    score = silhouette_score(df_std, preds)\n",
    "    print(\"For n_clusters = {}, silhouette score is {})\".format(n_clusters, score))"
   ]
  },
  {
   "cell_type": "markdown",
   "metadata": {},
   "source": [
    "## Label"
   ]
  },
  {
   "cell_type": "code",
   "execution_count": null,
   "metadata": {},
   "outputs": [],
   "source": [
    "from sklearn.cluster import KMeans    \n",
    "kmeans = KMeans(n_clusters = 6)\n",
    "kmeans.fit(df_segm)\n",
    "\n",
    "labels = kmeans.labels_\n",
    "labels"
   ]
  },
  {
   "cell_type": "markdown",
   "metadata": {},
   "source": [
    "## Clustering"
   ]
  },
  {
   "cell_type": "code",
   "execution_count": null,
   "metadata": {},
   "outputs": [],
   "source": [
    "kmeans= KMeans(n_clusters= 6, init = 'k-means++', random_state = 42) #memilih n_cluster = 6 #clustering kmeans dg nilai n_cluster = 6\n",
    "kmeans.fit(df_std)"
   ]
  },
  {
   "cell_type": "code",
   "execution_count": null,
   "metadata": {},
   "outputs": [],
   "source": [
    "df_result = df_segm.copy() #menyalin DataFrame df_segm ke DataFrame baru df_segm_result\n",
    "df_result['Segment K-Means'] = kmeans.labels_ #menambahkan labels tiap data hasil kmeans clustering ke kolom baru 'Segment K-Means' ke Dataframe\n",
    "\n",
    "df_analysis = df_result.groupby(['Segment K-Means']).mean() #membuat DataFrame baru df_segm_analysis berisi nilai mean dari DataFrame df_segm_result dan mengelompokkannya berdasarkan segmen\n",
    "df_analysis['Frequency'] = df_result[['Segment K-Means', 'Age']].groupby(['Segment K-Means']).count() #buat kolom baru 'Frequency' berisi jumlah orang pada Segment tsb dan mengelompokkannya brdsrkan segmen\n",
    "df_analysis['Percentage'] = df_analysis['Frequency']/df_analysis['Frequency'].sum() #buat kolom baru 'Percentage' berisi nilai presentase jumlah orang pada segment tersebut dibandingkan data keseluruhan \n",
    "\n",
    "df_analysis #menampilkan DataFrame df_segm_analysis"
   ]
  },
  {
   "cell_type": "markdown",
   "metadata": {},
   "source": [
    "## Visualisasi hasil dengan grafik 3 Dimensi "
   ]
  },
  {
   "cell_type": "code",
   "execution_count": null,
   "metadata": {},
   "outputs": [],
   "source": [
    "#Plot 3D hasil clustering\n",
    "\n",
    "import plotly.graph_objs as go\n",
    "#mengeset data yang akan diplot\n",
    "trace = go.Scatter3d( #mengeset data tiap sumbu\n",
    "    x= df_result['Age'],\n",
    "    y= df_result['Spending Score (1-100)'],\n",
    "    z= df_result['Annual Income (k$)'],\n",
    "    mode='markers',\n",
    "    marker=dict(color = df_result['Segment K-Means'])\n",
    ")\n",
    "data = [trace]\n",
    "\n",
    "#mengeset layout dari plot yg akan dibuat\n",
    "layout = go.Layout(\n",
    "    title= 'Clusters',\n",
    "    scene = dict( #mengeset label utk  tiap sumbu\n",
    "            xaxis = dict(title  = 'Age'),\n",
    "            yaxis = dict(title  = 'Spending Score'),\n",
    "            zaxis = dict(title  = 'Annual Income')\n",
    "        )\n",
    ")\n",
    "\n",
    "fig = go.Figure(data=data, layout=layout) #membuat object figure (gambar) dengan isi konten=data dan layout yg telah diset sblmnya\n",
    "\n",
    "import plotly as py\n",
    "py.offline.iplot(fig) #menampilkan plot"
   ]
  },
  {
   "cell_type": "markdown",
   "metadata": {},
   "source": [
    "## Menamakan Cluster\n"
   ]
  },
  {
   "cell_type": "code",
   "execution_count": null,
   "metadata": {},
   "outputs": [],
   "source": [
    "df_analysis.rename({0: 'Fewer opportunities',\n",
    "                    1: 'Good opportunities',\n",
    "                    2: 'Thrifty group',\n",
    "                    3: 'Consumptive young group',\n",
    "                    4: 'Standard older people',\n",
    "                    5: 'Standard younger people'})"
   ]
  },
  {
   "cell_type": "markdown",
   "metadata": {},
   "source": [
    "## Score inertia"
   ]
  },
  {
   "cell_type": "code",
   "execution_count": null,
   "metadata": {},
   "outputs": [],
   "source": [
    "from sklearn.metrics import silhouette_samples, silhouette_score\n",
    "# range_n_clusters = [2, 3, 4, 5, 6, 7, 8, 9, 10, 11]\n",
    "# #Menentukan jumlah cluster dengan Silhouette Analysis\n",
    "# for n_clusters in range_n_clusters:\n",
    "clusterer = KMeans(6)\n",
    "preds = clusterer.fit_predict(df_std)\n",
    "centers = clusterer.cluster_centers_\n",
    "\n",
    "score = silhouette_score(df_std, preds)\n",
    "print(\"n_clusters = 6, silhouette score is {})\".format(score))\n",
    "print(\"Inertia : \", kmeans.inertia_)"
   ]
  },
  {
   "cell_type": "code",
   "execution_count": null,
   "metadata": {},
   "outputs": [],
   "source": [
    "data.to_csv('Iris_clustered.csv')"
   ]
  },
  {
   "cell_type": "code",
   "execution_count": null,
   "metadata": {},
   "outputs": [],
   "source": []
  },
  {
   "cell_type": "code",
   "execution_count": null,
   "metadata": {},
   "outputs": [],
   "source": []
  }
 ],
 "metadata": {
  "kernelspec": {
   "display_name": "Python 3",
   "language": "python",
   "name": "python3"
  },
  "language_info": {
   "codemirror_mode": {
    "name": "ipython",
    "version": 3
   },
   "file_extension": ".py",
   "mimetype": "text/x-python",
   "name": "python",
   "nbconvert_exporter": "python",
   "pygments_lexer": "ipython3",
   "version": "3.8.8"
  }
 },
 "nbformat": 4,
 "nbformat_minor": 2
}
