{
 "cells": [
  {
   "cell_type": "code",
   "execution_count": 1,
   "id": "37963822",
   "metadata": {},
   "outputs": [],
   "source": [
    "import numpy as np\n",
    "import pandas as pd\n",
    "import matplotlib as plt\n",
    "import seaborn as sns\n",
    "%matplotlib notebook"
   ]
  },
  {
   "cell_type": "code",
   "execution_count": 2,
   "id": "fd379d89",
   "metadata": {},
   "outputs": [],
   "source": [
    "dataset = pd.read_csv('clustered_analysis.csv')"
   ]
  },
  {
   "cell_type": "code",
   "execution_count": 3,
   "id": "70789137",
   "metadata": {},
   "outputs": [
    {
     "data": {
      "text/html": [
       "<div>\n",
       "<style scoped>\n",
       "    .dataframe tbody tr th:only-of-type {\n",
       "        vertical-align: middle;\n",
       "    }\n",
       "\n",
       "    .dataframe tbody tr th {\n",
       "        vertical-align: top;\n",
       "    }\n",
       "\n",
       "    .dataframe thead th {\n",
       "        text-align: right;\n",
       "    }\n",
       "</style>\n",
       "<table border=\"1\" class=\"dataframe\">\n",
       "  <thead>\n",
       "    <tr style=\"text-align: right;\">\n",
       "      <th></th>\n",
       "      <th>CustomerID</th>\n",
       "      <th>Gender</th>\n",
       "      <th>Age</th>\n",
       "      <th>Annual Income (k$)</th>\n",
       "      <th>Spending Score (1-100)</th>\n",
       "      <th>Segment</th>\n",
       "    </tr>\n",
       "  </thead>\n",
       "  <tbody>\n",
       "    <tr>\n",
       "      <th>0</th>\n",
       "      <td>1</td>\n",
       "      <td>Male</td>\n",
       "      <td>19</td>\n",
       "      <td>15</td>\n",
       "      <td>39</td>\n",
       "      <td>5</td>\n",
       "    </tr>\n",
       "    <tr>\n",
       "      <th>1</th>\n",
       "      <td>2</td>\n",
       "      <td>Male</td>\n",
       "      <td>21</td>\n",
       "      <td>15</td>\n",
       "      <td>81</td>\n",
       "      <td>4</td>\n",
       "    </tr>\n",
       "    <tr>\n",
       "      <th>2</th>\n",
       "      <td>3</td>\n",
       "      <td>Female</td>\n",
       "      <td>20</td>\n",
       "      <td>16</td>\n",
       "      <td>6</td>\n",
       "      <td>5</td>\n",
       "    </tr>\n",
       "    <tr>\n",
       "      <th>3</th>\n",
       "      <td>4</td>\n",
       "      <td>Female</td>\n",
       "      <td>23</td>\n",
       "      <td>16</td>\n",
       "      <td>77</td>\n",
       "      <td>4</td>\n",
       "    </tr>\n",
       "    <tr>\n",
       "      <th>4</th>\n",
       "      <td>5</td>\n",
       "      <td>Female</td>\n",
       "      <td>31</td>\n",
       "      <td>17</td>\n",
       "      <td>40</td>\n",
       "      <td>5</td>\n",
       "    </tr>\n",
       "  </tbody>\n",
       "</table>\n",
       "</div>"
      ],
      "text/plain": [
       "   CustomerID  Gender  Age  Annual Income (k$)  Spending Score (1-100)  \\\n",
       "0           1    Male   19                  15                      39   \n",
       "1           2    Male   21                  15                      81   \n",
       "2           3  Female   20                  16                       6   \n",
       "3           4  Female   23                  16                      77   \n",
       "4           5  Female   31                  17                      40   \n",
       "\n",
       "   Segment   \n",
       "0         5  \n",
       "1         4  \n",
       "2         5  \n",
       "3         4  \n",
       "4         5  "
      ]
     },
     "execution_count": 3,
     "metadata": {},
     "output_type": "execute_result"
    }
   ],
   "source": [
    "dataset.head()"
   ]
  },
  {
   "cell_type": "code",
   "execution_count": 4,
   "id": "643293d5",
   "metadata": {},
   "outputs": [
    {
     "name": "stdout",
     "output_type": "stream",
     "text": [
      "<class 'pandas.core.frame.DataFrame'>\n",
      "RangeIndex: 200 entries, 0 to 199\n",
      "Data columns (total 6 columns):\n",
      " #   Column                  Non-Null Count  Dtype \n",
      "---  ------                  --------------  ----- \n",
      " 0   CustomerID              200 non-null    int64 \n",
      " 1   Gender                  200 non-null    object\n",
      " 2   Age                     200 non-null    int64 \n",
      " 3   Annual Income (k$)      200 non-null    int64 \n",
      " 4   Spending Score (1-100)  200 non-null    int64 \n",
      " 5   Segment                 200 non-null    int64 \n",
      "dtypes: int64(5), object(1)\n",
      "memory usage: 9.5+ KB\n"
     ]
    }
   ],
   "source": [
    "dataset.info()"
   ]
  },
  {
   "cell_type": "code",
   "execution_count": 5,
   "id": "57394679",
   "metadata": {},
   "outputs": [],
   "source": [
    "X = dataset.iloc[:, 2:6]"
   ]
  },
  {
   "cell_type": "code",
   "execution_count": 6,
   "id": "aeb53b33",
   "metadata": {},
   "outputs": [
    {
     "data": {
      "text/html": [
       "<div>\n",
       "<style scoped>\n",
       "    .dataframe tbody tr th:only-of-type {\n",
       "        vertical-align: middle;\n",
       "    }\n",
       "\n",
       "    .dataframe tbody tr th {\n",
       "        vertical-align: top;\n",
       "    }\n",
       "\n",
       "    .dataframe thead th {\n",
       "        text-align: right;\n",
       "    }\n",
       "</style>\n",
       "<table border=\"1\" class=\"dataframe\">\n",
       "  <thead>\n",
       "    <tr style=\"text-align: right;\">\n",
       "      <th></th>\n",
       "      <th>Age</th>\n",
       "      <th>Annual Income (k$)</th>\n",
       "      <th>Spending Score (1-100)</th>\n",
       "      <th>Segment</th>\n",
       "    </tr>\n",
       "  </thead>\n",
       "  <tbody>\n",
       "    <tr>\n",
       "      <th>0</th>\n",
       "      <td>19</td>\n",
       "      <td>15</td>\n",
       "      <td>39</td>\n",
       "      <td>5</td>\n",
       "    </tr>\n",
       "    <tr>\n",
       "      <th>1</th>\n",
       "      <td>21</td>\n",
       "      <td>15</td>\n",
       "      <td>81</td>\n",
       "      <td>4</td>\n",
       "    </tr>\n",
       "    <tr>\n",
       "      <th>2</th>\n",
       "      <td>20</td>\n",
       "      <td>16</td>\n",
       "      <td>6</td>\n",
       "      <td>5</td>\n",
       "    </tr>\n",
       "    <tr>\n",
       "      <th>3</th>\n",
       "      <td>23</td>\n",
       "      <td>16</td>\n",
       "      <td>77</td>\n",
       "      <td>4</td>\n",
       "    </tr>\n",
       "    <tr>\n",
       "      <th>4</th>\n",
       "      <td>31</td>\n",
       "      <td>17</td>\n",
       "      <td>40</td>\n",
       "      <td>5</td>\n",
       "    </tr>\n",
       "  </tbody>\n",
       "</table>\n",
       "</div>"
      ],
      "text/plain": [
       "   Age  Annual Income (k$)  Spending Score (1-100)  Segment \n",
       "0   19                  15                      39         5\n",
       "1   21                  15                      81         4\n",
       "2   20                  16                       6         5\n",
       "3   23                  16                      77         4\n",
       "4   31                  17                      40         5"
      ]
     },
     "execution_count": 6,
     "metadata": {},
     "output_type": "execute_result"
    }
   ],
   "source": [
    "X.head()"
   ]
  },
  {
   "cell_type": "code",
   "execution_count": 7,
   "id": "5665c68d",
   "metadata": {},
   "outputs": [],
   "source": [
    "X = pd.get_dummies(X)"
   ]
  },
  {
   "cell_type": "code",
   "execution_count": 8,
   "id": "d79a90a4",
   "metadata": {},
   "outputs": [
    {
     "data": {
      "text/plain": [
       "array([[ 19,  15,  39,   5],\n",
       "       [ 21,  15,  81,   4],\n",
       "       [ 20,  16,   6,   5],\n",
       "       [ 23,  16,  77,   4],\n",
       "       [ 31,  17,  40,   5],\n",
       "       [ 22,  17,  76,   4],\n",
       "       [ 35,  18,   6,   5],\n",
       "       [ 23,  18,  94,   4],\n",
       "       [ 64,  19,   3,   5],\n",
       "       [ 30,  19,  72,   4],\n",
       "       [ 67,  19,  14,   5],\n",
       "       [ 35,  19,  99,   4],\n",
       "       [ 58,  20,  15,   5],\n",
       "       [ 24,  20,  77,   4],\n",
       "       [ 37,  20,  13,   5],\n",
       "       [ 22,  20,  79,   4],\n",
       "       [ 35,  21,  35,   5],\n",
       "       [ 20,  21,  66,   4],\n",
       "       [ 52,  23,  29,   5],\n",
       "       [ 35,  23,  98,   4],\n",
       "       [ 35,  24,  35,   5],\n",
       "       [ 25,  24,  73,   4],\n",
       "       [ 46,  25,   5,   5],\n",
       "       [ 31,  25,  73,   4],\n",
       "       [ 54,  28,  14,   5],\n",
       "       [ 29,  28,  82,   4],\n",
       "       [ 45,  28,  32,   5],\n",
       "       [ 35,  28,  61,   4],\n",
       "       [ 40,  29,  31,   5],\n",
       "       [ 23,  29,  87,   4],\n",
       "       [ 60,  30,   4,   5],\n",
       "       [ 21,  30,  73,   4],\n",
       "       [ 53,  33,   4,   5],\n",
       "       [ 18,  33,  92,   4],\n",
       "       [ 49,  33,  14,   5],\n",
       "       [ 21,  33,  81,   4],\n",
       "       [ 42,  34,  17,   5],\n",
       "       [ 30,  34,  73,   4],\n",
       "       [ 36,  37,  26,   5],\n",
       "       [ 20,  37,  75,   4],\n",
       "       [ 65,  38,  35,   0],\n",
       "       [ 24,  38,  92,   4],\n",
       "       [ 48,  39,  36,   0],\n",
       "       [ 31,  39,  61,   3],\n",
       "       [ 49,  39,  28,   5],\n",
       "       [ 24,  39,  65,   4],\n",
       "       [ 50,  40,  55,   0],\n",
       "       [ 27,  40,  47,   3],\n",
       "       [ 29,  40,  42,   3],\n",
       "       [ 31,  40,  42,   3],\n",
       "       [ 49,  42,  52,   0],\n",
       "       [ 33,  42,  60,   3],\n",
       "       [ 31,  43,  54,   3],\n",
       "       [ 59,  43,  60,   0],\n",
       "       [ 50,  43,  45,   0],\n",
       "       [ 47,  43,  41,   0],\n",
       "       [ 51,  44,  50,   0],\n",
       "       [ 69,  44,  46,   0],\n",
       "       [ 27,  46,  51,   3],\n",
       "       [ 53,  46,  46,   0],\n",
       "       [ 70,  46,  56,   0],\n",
       "       [ 19,  46,  55,   3],\n",
       "       [ 67,  47,  52,   0],\n",
       "       [ 54,  47,  59,   0],\n",
       "       [ 63,  48,  51,   0],\n",
       "       [ 18,  48,  59,   3],\n",
       "       [ 43,  48,  50,   0],\n",
       "       [ 68,  48,  48,   0],\n",
       "       [ 19,  48,  59,   3],\n",
       "       [ 32,  48,  47,   3],\n",
       "       [ 70,  49,  55,   0],\n",
       "       [ 47,  49,  42,   0],\n",
       "       [ 60,  50,  49,   0],\n",
       "       [ 60,  50,  56,   0],\n",
       "       [ 59,  54,  47,   0],\n",
       "       [ 26,  54,  54,   3],\n",
       "       [ 45,  54,  53,   0],\n",
       "       [ 40,  54,  48,   3],\n",
       "       [ 23,  54,  52,   3],\n",
       "       [ 49,  54,  42,   0],\n",
       "       [ 57,  54,  51,   0],\n",
       "       [ 38,  54,  55,   3],\n",
       "       [ 67,  54,  41,   0],\n",
       "       [ 46,  54,  44,   0],\n",
       "       [ 21,  54,  57,   3],\n",
       "       [ 48,  54,  46,   0],\n",
       "       [ 55,  57,  58,   0],\n",
       "       [ 22,  57,  55,   3],\n",
       "       [ 34,  58,  60,   3],\n",
       "       [ 50,  58,  46,   0],\n",
       "       [ 68,  59,  55,   0],\n",
       "       [ 18,  59,  41,   3],\n",
       "       [ 48,  60,  49,   0],\n",
       "       [ 40,  60,  40,   3],\n",
       "       [ 32,  60,  42,   3],\n",
       "       [ 24,  60,  52,   3],\n",
       "       [ 47,  60,  47,   0],\n",
       "       [ 27,  60,  50,   3],\n",
       "       [ 48,  61,  42,   0],\n",
       "       [ 20,  61,  49,   3],\n",
       "       [ 23,  62,  41,   3],\n",
       "       [ 49,  62,  48,   0],\n",
       "       [ 67,  62,  59,   0],\n",
       "       [ 26,  62,  55,   3],\n",
       "       [ 49,  62,  56,   0],\n",
       "       [ 21,  62,  42,   3],\n",
       "       [ 66,  63,  50,   0],\n",
       "       [ 54,  63,  46,   0],\n",
       "       [ 68,  63,  43,   0],\n",
       "       [ 66,  63,  48,   0],\n",
       "       [ 65,  63,  52,   0],\n",
       "       [ 19,  63,  54,   3],\n",
       "       [ 38,  64,  42,   3],\n",
       "       [ 19,  64,  46,   3],\n",
       "       [ 18,  65,  48,   3],\n",
       "       [ 19,  65,  50,   3],\n",
       "       [ 63,  65,  43,   0],\n",
       "       [ 49,  65,  59,   0],\n",
       "       [ 51,  67,  43,   0],\n",
       "       [ 50,  67,  57,   0],\n",
       "       [ 27,  67,  56,   3],\n",
       "       [ 38,  67,  40,   3],\n",
       "       [ 40,  69,  58,   3],\n",
       "       [ 39,  69,  91,   1],\n",
       "       [ 23,  70,  29,   3],\n",
       "       [ 31,  70,  77,   1],\n",
       "       [ 43,  71,  35,   2],\n",
       "       [ 40,  71,  95,   1],\n",
       "       [ 59,  71,  11,   2],\n",
       "       [ 38,  71,  75,   1],\n",
       "       [ 47,  71,   9,   2],\n",
       "       [ 39,  71,  75,   1],\n",
       "       [ 25,  72,  34,   3],\n",
       "       [ 31,  72,  71,   1],\n",
       "       [ 20,  73,   5,   2],\n",
       "       [ 29,  73,  88,   1],\n",
       "       [ 44,  73,   7,   2],\n",
       "       [ 32,  73,  73,   1],\n",
       "       [ 19,  74,  10,   2],\n",
       "       [ 35,  74,  72,   1],\n",
       "       [ 57,  75,   5,   2],\n",
       "       [ 32,  75,  93,   1],\n",
       "       [ 28,  76,  40,   3],\n",
       "       [ 32,  76,  87,   1],\n",
       "       [ 25,  77,  12,   2],\n",
       "       [ 28,  77,  97,   1],\n",
       "       [ 48,  77,  36,   2],\n",
       "       [ 32,  77,  74,   1],\n",
       "       [ 34,  78,  22,   2],\n",
       "       [ 34,  78,  90,   1],\n",
       "       [ 43,  78,  17,   2],\n",
       "       [ 39,  78,  88,   1],\n",
       "       [ 44,  78,  20,   2],\n",
       "       [ 38,  78,  76,   1],\n",
       "       [ 47,  78,  16,   2],\n",
       "       [ 27,  78,  89,   1],\n",
       "       [ 37,  78,   1,   2],\n",
       "       [ 30,  78,  78,   1],\n",
       "       [ 34,  78,   1,   2],\n",
       "       [ 30,  78,  73,   1],\n",
       "       [ 56,  79,  35,   2],\n",
       "       [ 29,  79,  83,   1],\n",
       "       [ 19,  81,   5,   2],\n",
       "       [ 31,  81,  93,   1],\n",
       "       [ 50,  85,  26,   2],\n",
       "       [ 36,  85,  75,   1],\n",
       "       [ 42,  86,  20,   2],\n",
       "       [ 33,  86,  95,   1],\n",
       "       [ 36,  87,  27,   2],\n",
       "       [ 32,  87,  63,   1],\n",
       "       [ 40,  87,  13,   2],\n",
       "       [ 28,  87,  75,   1],\n",
       "       [ 36,  87,  10,   2],\n",
       "       [ 36,  87,  92,   1],\n",
       "       [ 52,  88,  13,   2],\n",
       "       [ 30,  88,  86,   1],\n",
       "       [ 58,  88,  15,   2],\n",
       "       [ 27,  88,  69,   1],\n",
       "       [ 59,  93,  14,   2],\n",
       "       [ 35,  93,  90,   1],\n",
       "       [ 37,  97,  32,   2],\n",
       "       [ 32,  97,  86,   1],\n",
       "       [ 46,  98,  15,   2],\n",
       "       [ 29,  98,  88,   1],\n",
       "       [ 41,  99,  39,   2],\n",
       "       [ 30,  99,  97,   1],\n",
       "       [ 54, 101,  24,   2],\n",
       "       [ 28, 101,  68,   1],\n",
       "       [ 41, 103,  17,   2],\n",
       "       [ 36, 103,  85,   1],\n",
       "       [ 34, 103,  23,   2],\n",
       "       [ 32, 103,  69,   1],\n",
       "       [ 33, 113,   8,   2],\n",
       "       [ 38, 113,  91,   1],\n",
       "       [ 47, 120,  16,   2],\n",
       "       [ 35, 120,  79,   1],\n",
       "       [ 45, 126,  28,   2],\n",
       "       [ 32, 126,  74,   1],\n",
       "       [ 32, 137,  18,   2],\n",
       "       [ 30, 137,  83,   1]], dtype=int64)"
      ]
     },
     "execution_count": 8,
     "metadata": {},
     "output_type": "execute_result"
    }
   ],
   "source": [
    "X = X.values\n",
    "X"
   ]
  },
  {
   "cell_type": "code",
   "execution_count": 9,
   "id": "7b5cde34",
   "metadata": {},
   "outputs": [
    {
     "data": {
      "text/plain": [
       "array([5, 4, 5, 4, 5, 4, 5, 4, 5, 4, 5, 4, 5, 4, 5, 4, 5, 4, 5, 4, 5, 4,\n",
       "       5, 4, 5, 4, 5, 4, 5, 4, 5, 4, 5, 4, 5, 4, 5, 4, 5, 4, 0, 4, 0, 3,\n",
       "       5, 4, 0, 3, 3, 3, 0, 3, 3, 0, 0, 0, 0, 0, 3, 0, 0, 3, 0, 0, 0, 3,\n",
       "       0, 0, 3, 3, 0, 0, 0, 0, 0, 3, 0, 3, 3, 0, 0, 3, 0, 0, 3, 0, 0, 3,\n",
       "       3, 0, 0, 3, 0, 3, 3, 3, 0, 3, 0, 3, 3, 0, 0, 3, 0, 3, 0, 0, 0, 0,\n",
       "       0, 3, 3, 3, 3, 3, 0, 0, 0, 0, 3, 3, 3, 1, 3, 1, 2, 1, 2, 1, 2, 1,\n",
       "       3, 1, 2, 1, 2, 1, 2, 1, 2, 1, 3, 1, 2, 1, 2, 1, 2, 1, 2, 1, 2, 1,\n",
       "       2, 1, 2, 1, 2, 1, 2, 1, 2, 1, 2, 1, 2, 1, 2, 1, 2, 1, 2, 1, 2, 1,\n",
       "       2, 1, 2, 1, 2, 1, 2, 1, 2, 1, 2, 1, 2, 1, 2, 1, 2, 1, 2, 1, 2, 1,\n",
       "       2, 1], dtype=int64)"
      ]
     },
     "execution_count": 9,
     "metadata": {},
     "output_type": "execute_result"
    }
   ],
   "source": [
    "Y = dataset.iloc[:, -1].values\n",
    "Y"
   ]
  },
  {
   "cell_type": "markdown",
   "id": "20cdeee0",
   "metadata": {},
   "source": [
    "## Split data"
   ]
  },
  {
   "cell_type": "code",
   "execution_count": 10,
   "id": "f763bbd2",
   "metadata": {},
   "outputs": [],
   "source": [
    "from sklearn.model_selection import train_test_split"
   ]
  },
  {
   "cell_type": "code",
   "execution_count": 11,
   "id": "06675a64",
   "metadata": {},
   "outputs": [],
   "source": [
    "X_train, X_test, Y_train, Y_test = train_test_split(X,Y, test_size=.25, random_state = 42)"
   ]
  },
  {
   "cell_type": "code",
   "execution_count": 12,
   "id": "3f0b46b7",
   "metadata": {},
   "outputs": [
    {
     "data": {
      "text/plain": [
       "(150, 4)"
      ]
     },
     "execution_count": 12,
     "metadata": {},
     "output_type": "execute_result"
    }
   ],
   "source": [
    "X_train.shape"
   ]
  },
  {
   "cell_type": "code",
   "execution_count": 13,
   "id": "5bd50cbc",
   "metadata": {},
   "outputs": [
    {
     "data": {
      "text/plain": [
       "(50, 4)"
      ]
     },
     "execution_count": 13,
     "metadata": {},
     "output_type": "execute_result"
    }
   ],
   "source": [
    "X_test.shape"
   ]
  },
  {
   "cell_type": "markdown",
   "id": "7180ff60",
   "metadata": {},
   "source": [
    "## Training set menggunakan metode Naive Bayes"
   ]
  },
  {
   "cell_type": "code",
   "execution_count": 14,
   "id": "a413720e",
   "metadata": {},
   "outputs": [],
   "source": [
    "from sklearn.naive_bayes import GaussianNB\n",
    "gnb = GaussianNB()"
   ]
  },
  {
   "cell_type": "code",
   "execution_count": 15,
   "id": "6f062ee4",
   "metadata": {},
   "outputs": [
    {
     "data": {
      "text/plain": [
       "GaussianNB()"
      ]
     },
     "execution_count": 15,
     "metadata": {},
     "output_type": "execute_result"
    }
   ],
   "source": [
    "gnb.fit(X_train,Y_train)"
   ]
  },
  {
   "cell_type": "code",
   "execution_count": 16,
   "id": "6f7e2763",
   "metadata": {},
   "outputs": [],
   "source": [
    "Y_pred = gnb.predict(X_test)"
   ]
  },
  {
   "cell_type": "markdown",
   "id": "083669eb",
   "metadata": {},
   "source": [
    "## Hitung Accuracy"
   ]
  },
  {
   "cell_type": "code",
   "execution_count": 17,
   "id": "95b33c67",
   "metadata": {},
   "outputs": [],
   "source": [
    "from sklearn.metrics import classification_report, confusion_matrix"
   ]
  },
  {
   "cell_type": "code",
   "execution_count": 18,
   "id": "22aab589",
   "metadata": {},
   "outputs": [
    {
     "name": "stdout",
     "output_type": "stream",
     "text": [
      "              precision    recall  f1-score   support\n",
      "\n",
      "           0       1.00      1.00      1.00        10\n",
      "           1       1.00      1.00      1.00         8\n",
      "           2       1.00      1.00      1.00        10\n",
      "           3       1.00      1.00      1.00        12\n",
      "           4       1.00      1.00      1.00         5\n",
      "           5       1.00      1.00      1.00         5\n",
      "\n",
      "    accuracy                           1.00        50\n",
      "   macro avg       1.00      1.00      1.00        50\n",
      "weighted avg       1.00      1.00      1.00        50\n",
      "\n"
     ]
    }
   ],
   "source": [
    "print(classification_report(Y_test, Y_pred))"
   ]
  },
  {
   "cell_type": "code",
   "execution_count": 19,
   "id": "e595bc79",
   "metadata": {},
   "outputs": [],
   "source": [
    "from sklearn.model_selection import cross_val_score"
   ]
  },
  {
   "cell_type": "code",
   "execution_count": 20,
   "id": "33351e05",
   "metadata": {},
   "outputs": [
    {
     "name": "stdout",
     "output_type": "stream",
     "text": [
      "Cross val:  [1. 1. 1. 1. 1.]\n",
      "Accuracy :  1.0\n"
     ]
    }
   ],
   "source": [
    "print('Cross val: ', cross_val_score(gnb, Y_test.reshape(-1, 1), Y_pred, cv = 5))\n",
    "print('Accuracy : ', np.mean(cross_val_score(gnb, Y_test.reshape(-1, 1), Y_pred)))"
   ]
  },
  {
   "cell_type": "code",
   "execution_count": null,
   "id": "818dbc0a",
   "metadata": {},
   "outputs": [],
   "source": []
  }
 ],
 "metadata": {
  "kernelspec": {
   "display_name": "Python 3",
   "language": "python",
   "name": "python3"
  },
  "language_info": {
   "codemirror_mode": {
    "name": "ipython",
    "version": 3
   },
   "file_extension": ".py",
   "mimetype": "text/x-python",
   "name": "python",
   "nbconvert_exporter": "python",
   "pygments_lexer": "ipython3",
   "version": "3.8.8"
  }
 },
 "nbformat": 4,
 "nbformat_minor": 5
}
