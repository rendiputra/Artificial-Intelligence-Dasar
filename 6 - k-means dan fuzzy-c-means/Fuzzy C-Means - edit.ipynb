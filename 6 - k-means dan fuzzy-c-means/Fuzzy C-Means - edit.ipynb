{
 "cells": [
  {
   "cell_type": "code",
   "execution_count": 27,
   "metadata": {},
   "outputs": [],
   "source": [
    "from collections import defaultdict\n",
    "from datetime import datetime\n",
    "\n",
    "import numpy as np\n",
    "from matplotlib import pyplot as plt\n",
    "import random\n",
    "import math\n",
    "import time\n",
    "from sklearn import decomposition\n",
    "import pandas as pd"
   ]
  },
  {
   "cell_type": "code",
   "execution_count": 28,
   "metadata": {},
   "outputs": [],
   "source": [
    "color_dict = defaultdict()\n",
    "\n",
    "\n",
    "def init_color_dict(number_of_clusters):\n",
    "    color_dict[0] = '#448aff'\n",
    "    color_dict[1] = '#ec407a'\n",
    "    color_dict[2] = '#00e676'\n",
    "    color_dict[3] = '#ff6f00'\n",
    "    color_dict[4] = '#ef9a9a'\n",
    "    for i in range(5, number_of_clusters):\n",
    "        color_dict[i] = np.random.rand(1, 3)"
   ]
  },
  {
   "cell_type": "code",
   "execution_count": 29,
   "metadata": {},
   "outputs": [],
   "source": [
    "# print dataset\n",
    "def print_dataset(dataset):\n",
    "    print(np.asarray(dataset))"
   ]
  },
  {
   "cell_type": "code",
   "execution_count": 30,
   "metadata": {},
   "outputs": [],
   "source": [
    "# print plot 2d dataset\n",
    "def plot_2d_dataset(dataset, markers=None, labels=None):\n",
    "    x, y = np.asarray(dataset).T\n",
    "    if labels is None:\n",
    "        labels = []\n",
    "    if markers is None:\n",
    "        markers = []\n",
    "\n",
    "    for i in range(len(dataset)):\n",
    "        point = dataset[i]\n",
    "        plt.scatter(point[0], point[1], c=color_dict[labels[i]])\n",
    "\n",
    "    for marker in markers:\n",
    "        plt.scatter(marker[0], marker[1], s=200, marker='*')\n",
    "    plt.show()\n",
    "    plt.savefig(str(time.time()) + '.png')\n",
    "    plt.close()"
   ]
  },
  {
   "cell_type": "code",
   "execution_count": 31,
   "metadata": {},
   "outputs": [],
   "source": [
    "# plot data final\n",
    "def plot_2d_with_markers(clusters, dataset, membership):\n",
    "    labels = get_cluster_labels(membership)\n",
    "    plot_2d_dataset(dataset, markers=clusters, labels=labels)"
   ]
  },
  {
   "cell_type": "code",
   "execution_count": 32,
   "metadata": {},
   "outputs": [],
   "source": [
    "# return a n * c membership function, generate random fungsi keanggotaan\n",
    "# n = number of data\n",
    "# c = number of clusters\n",
    "def generate_random_membership_function(n, c):\n",
    "    membership = np.random.rand(n, c)\n",
    "    # print(membership)\n",
    "    summation = [sum(center) for center in membership]\n",
    "    normalized = []\n",
    "    for i in range(len(membership)):\n",
    "        tmp = []\n",
    "        for d in membership[i]:\n",
    "            tmp.append(d / summation[i])\n",
    "        normalized.append(tmp)\n",
    "    return normalized"
   ]
  },
  {
   "cell_type": "code",
   "execution_count": 33,
   "metadata": {},
   "outputs": [],
   "source": [
    "# calculate weighted average of data points, menghitung dengan bobot, langkah 4\n",
    "# for each cluster i calculate sigma[k from 1 to n]((U_ik)^m * DATA_k)/sigma[k from 1 to n]((U_ik)^m)\n",
    "# m is fuzziness parameter\n",
    "def update_cluster_centers(dataset, membership_matrix, m):\n",
    "    number_of_clusters = len(membership_matrix[0])\n",
    "    cluster_centers = []\n",
    "    for i in range(number_of_clusters):\n",
    "        u_ik = list(zip(*membership_matrix))[i]\n",
    "        u_ik_m = [x ** m for x in u_ik]\n",
    "        sigma_u_ik_m = sum(u_ik_m)  # i is fixed\n",
    "        weighted_data = []\n",
    "        for k in range(len(dataset)):\n",
    "            weighted_vector = []\n",
    "            for f in range(len(dataset[k])):  # iterate over features\n",
    "                weighted_vector.append(u_ik_m[k] * dataset[k][f])\n",
    "            weighted_data.append(weighted_vector)\n",
    "        sigma_data_u_ik_m = [sum(x) for x in list(zip(*weighted_data))]\n",
    "        cluster_centers.append([sigma_data_u_ik_m[d]/sigma_u_ik_m for d in range(len(sigma_data_u_ik_m))])\n",
    "        print(\"Cek\", cluster_centers)\n",
    "    return cluster_centers"
   ]
  },
  {
   "cell_type": "code",
   "execution_count": 34,
   "metadata": {},
   "outputs": [],
   "source": [
    "# euclidean distance\n",
    "def euclidean_distance(p, q):\n",
    "    summation = 0\n",
    "    for i in range(len(p)):\n",
    "        summation += (p[i] - q[i]) ** 2\n",
    "    return math.sqrt(summation)"
   ]
  },
  {
   "cell_type": "code",
   "execution_count": 35,
   "metadata": {},
   "outputs": [],
   "source": [
    "# langkah 6\n",
    "def update_membership_matrix(dataset, clusters, m):\n",
    "    membership_matrix = []\n",
    "    fuzzy_power = float(2 / (m-1))\n",
    "    n = len(dataset)\n",
    "    c = len(clusters)\n",
    "    for i in range(n):\n",
    "        denom = sum([(1/euclidean_distance(dataset[i], clusters[x])) ** fuzzy_power for x in range(c)])\n",
    "        membership = []\n",
    "        for j in range(c):\n",
    "            num = (1/euclidean_distance(dataset[i], clusters[j])) ** fuzzy_power\n",
    "            membership.append(num/denom)\n",
    "        membership_matrix.append(membership)\n",
    "    return membership_matrix"
   ]
  },
  {
   "cell_type": "code",
   "execution_count": 36,
   "metadata": {},
   "outputs": [],
   "source": [
    "def get_cluster_labels(membership_matrix):\n",
    "    res = []\n",
    "    for membership in membership_matrix:\n",
    "        max_index = membership.index(max(membership))\n",
    "        res.append(max_index)\n",
    "    return res"
   ]
  },
  {
   "cell_type": "code",
   "execution_count": 37,
   "metadata": {},
   "outputs": [],
   "source": [
    "def fkm(cluster_no, iterations, dataset, m, error):\n",
    "    c = cluster_no\n",
    "    n = len(dataset)\n",
    "    vdata = np.mean(np.var(dataset, 0))\n",
    "    membership = generate_random_membership_function(n, c)\n",
    "\n",
    "    clusters = []\n",
    "    iterasi = 0\n",
    "    for i in range(iterations):\n",
    "        centers_old = clusters.copy()\n",
    "        clusters = update_cluster_centers(dataset, membership, m)\n",
    "        membership = update_membership_matrix(dataset, clusters, m)\n",
    "        iterasi += 1\n",
    "        if (np.sum(centers_old) - np.sum(clusters)) ** 2 < error * vdata:\n",
    "            break\n",
    "        print(\"Jumlah iterasi \", iterasi)\n",
    "    return clusters, membership"
   ]
  },
  {
   "cell_type": "code",
   "execution_count": 38,
   "metadata": {},
   "outputs": [],
   "source": [
    "data = pd.read_csv(\"IrisOri.csv\")"
   ]
  },
  {
   "cell_type": "code",
   "execution_count": 39,
   "metadata": {},
   "outputs": [
    {
     "data": {
      "text/html": [
       "<div>\n",
       "<style scoped>\n",
       "    .dataframe tbody tr th:only-of-type {\n",
       "        vertical-align: middle;\n",
       "    }\n",
       "\n",
       "    .dataframe tbody tr th {\n",
       "        vertical-align: top;\n",
       "    }\n",
       "\n",
       "    .dataframe thead th {\n",
       "        text-align: right;\n",
       "    }\n",
       "</style>\n",
       "<table border=\"1\" class=\"dataframe\">\n",
       "  <thead>\n",
       "    <tr style=\"text-align: right;\">\n",
       "      <th></th>\n",
       "      <th>Id</th>\n",
       "      <th>SepalLengthCm</th>\n",
       "      <th>SepalWidthCm</th>\n",
       "      <th>PetalLengthCm</th>\n",
       "      <th>PetalWidthCm</th>\n",
       "    </tr>\n",
       "  </thead>\n",
       "  <tbody>\n",
       "    <tr>\n",
       "      <th>0</th>\n",
       "      <td>1</td>\n",
       "      <td>5.1</td>\n",
       "      <td>3.5</td>\n",
       "      <td>1.4</td>\n",
       "      <td>0.2</td>\n",
       "    </tr>\n",
       "    <tr>\n",
       "      <th>1</th>\n",
       "      <td>2</td>\n",
       "      <td>4.9</td>\n",
       "      <td>3.0</td>\n",
       "      <td>1.4</td>\n",
       "      <td>0.2</td>\n",
       "    </tr>\n",
       "    <tr>\n",
       "      <th>2</th>\n",
       "      <td>3</td>\n",
       "      <td>4.7</td>\n",
       "      <td>3.2</td>\n",
       "      <td>1.3</td>\n",
       "      <td>0.2</td>\n",
       "    </tr>\n",
       "    <tr>\n",
       "      <th>3</th>\n",
       "      <td>4</td>\n",
       "      <td>4.6</td>\n",
       "      <td>3.1</td>\n",
       "      <td>1.5</td>\n",
       "      <td>0.2</td>\n",
       "    </tr>\n",
       "    <tr>\n",
       "      <th>4</th>\n",
       "      <td>5</td>\n",
       "      <td>5.0</td>\n",
       "      <td>3.6</td>\n",
       "      <td>1.4</td>\n",
       "      <td>0.2</td>\n",
       "    </tr>\n",
       "  </tbody>\n",
       "</table>\n",
       "</div>"
      ],
      "text/plain": [
       "   Id  SepalLengthCm  SepalWidthCm  PetalLengthCm  PetalWidthCm\n",
       "0   1            5.1           3.5            1.4           0.2\n",
       "1   2            4.9           3.0            1.4           0.2\n",
       "2   3            4.7           3.2            1.3           0.2\n",
       "3   4            4.6           3.1            1.5           0.2\n",
       "4   5            5.0           3.6            1.4           0.2"
      ]
     },
     "execution_count": 39,
     "metadata": {},
     "output_type": "execute_result"
    }
   ],
   "source": [
    "data.head()"
   ]
  },
  {
   "cell_type": "code",
   "execution_count": 40,
   "metadata": {},
   "outputs": [
    {
     "name": "stdout",
     "output_type": "stream",
     "text": [
      "Cek [[76.835279255593, 5.879046520306814, 3.0255697847338, 3.838002175550708, 1.2136118735071364]]\n",
      "Cek [[76.835279255593, 5.879046520306814, 3.0255697847338, 3.838002175550708, 1.2136118735071364], [69.56307190287127, 5.7979288747539925, 3.1073033455461085, 3.625940456951894, 1.183882623094091]]\n",
      "Cek [[76.835279255593, 5.879046520306814, 3.0255697847338, 3.838002175550708, 1.2136118735071364], [69.56307190287127, 5.7979288747539925, 3.1073033455461085, 3.625940456951894, 1.183882623094091], [79.42492645579325, 5.859043670583211, 3.0609347379197196, 3.798051296106067, 1.1982630380675359]]\n",
      "Jumlah iterasi  1\n",
      "Cek [[80.93173979843237, 6.000207972156578, 3.05019298508945, 3.9998575635645, 1.2902513371643647]]\n",
      "Cek [[80.93173979843237, 6.000207972156578, 3.05019298508945, 3.9998575635645, 1.2902513371643647], [59.79965107117144, 5.677008077508299, 3.027573696495462, 3.395637800609777, 1.0259759648502325]]\n",
      "Cek [[80.93173979843237, 6.000207972156578, 3.05019298508945, 3.9998575635645, 1.2902513371643647], [59.79965107117144, 5.677008077508299, 3.027573696495462, 3.395637800609777, 1.0259759648502325], [88.54110077073688, 5.956071571913727, 2.9502606923358403, 4.196094395985696, 1.3765928404309773]]\n",
      "Jumlah iterasi  2\n",
      "Cek [[85.95219866431994, 6.067293471382579, 2.899954618050551, 4.291553564909712, 1.3883386509859705]]\n",
      "Cek [[85.95219866431994, 6.067293471382579, 2.899954618050551, 4.291553564909712, 1.3883386509859705], [46.043428037443825, 5.461453110277787, 3.1227262638682936, 2.7899087584097964, 0.7695177103657312]]\n",
      "Cek [[85.95219866431994, 6.067293471382579, 2.899954618050551, 4.291553564909712, 1.3883386509859705], [46.043428037443825, 5.461453110277787, 3.1227262638682936, 2.7899087584097964, 0.7695177103657312], [103.09544915705055, 6.1501923758089205, 2.9059330127553324, 4.747528698493406, 1.6144937196681197]]\n",
      "Jumlah iterasi  3\n",
      "Cek [[85.24307587450745, 5.996350343892516, 2.8113918198509817, 4.362631704210297, 1.3826359067742724]]\n",
      "Cek [[85.24307587450745, 5.996350343892516, 2.8113918198509817, 4.362631704210297, 1.3826359067742724], [35.6628771086623, 5.237897951685679, 3.282124844791848, 2.0970781254600785, 0.49272900885741616]]\n",
      "Cek [[85.24307587450745, 5.996350343892516, 2.8113918198509817, 4.362631704210297, 1.3826359067742724], [35.6628771086623, 5.237897951685679, 3.282124844791848, 2.0970781254600785, 0.49272900885741616], [116.28569761324792, 6.4471783071770945, 2.9371429494414567, 5.339253458952517, 1.9096631214653996]]\n",
      "Jumlah iterasi  4\n",
      "Cek [[82.11547703209082, 5.934818215077976, 2.776204235926591, 4.304613786821968, 1.3485620363739033]]\n",
      "Cek [[82.11547703209082, 5.934818215077976, 2.776204235926591, 4.304613786821968, 1.3485620363739033], [30.050165867261494, 5.132887313651422, 3.3559192662223314, 1.781097651290466, 0.36766951470641657]]\n",
      "Cek [[82.11547703209082, 5.934818215077976, 2.776204235926591, 4.304613786821968, 1.3485620363739033], [30.050165867261494, 5.132887313651422, 3.3559192662223314, 1.781097651290466, 0.36766951470641657], [124.1002542412889, 6.587390264048029, 2.963056257619076, 5.520002151737231, 1.9994775769948523]]\n",
      "Jumlah iterasi  5\n",
      "Cek [[80.12079984564897, 5.945068646647036, 2.777380135300004, 4.313014643888431, 1.352679366213773]]\n",
      "Cek [[80.12079984564897, 5.945068646647036, 2.777380135300004, 4.313014643888431, 1.352679366213773], [27.144673215831002, 5.090356741520066, 3.3884050961272005, 1.6511391875091053, 0.3161798652754615]]\n",
      "Cek [[80.12079984564897, 5.945068646647036, 2.777380135300004, 4.313014643888431, 1.352679366213773], [27.144673215831002, 5.090356741520066, 3.3884050961272005, 1.6511391875091053, 0.3161798652754615], [127.27308224545342, 6.600933622251305, 2.973470811801017, 5.519916772975132, 2.0041999504849524]]\n",
      "Jumlah iterasi  6\n",
      "Cek [[78.92824286915437, 5.9468100233965355, 2.7812817166504904, 4.302779850239325, 1.3492876676917869]]\n",
      "Cek [[78.92824286915437, 5.9468100233965355, 2.7812817166504904, 4.302779850239325, 1.3492876676917869], [25.67780226233305, 5.07345207637571, 3.4025748500773827, 1.598421034632518, 0.29523082595197114]]\n",
      "Cek [[78.92824286915437, 5.9468100233965355, 2.7812817166504904, 4.302779850239325, 1.3492876676917869], [25.67780226233305, 5.07345207637571, 3.4025748500773827, 1.598421034632518, 0.29523082595197114], [128.2082980011559, 6.60068420097038, 2.976769524787828, 5.515061275591904, 2.0046549013830237]]\n",
      "Jumlah iterasi  7\n",
      "Cek [[78.10924504743868, 5.94487554089403, 2.783969946246971, 4.288523254238652, 1.3435572174261916]]\n",
      "Cek [[78.10924504743868, 5.94487554089403, 2.783969946246971, 4.288523254238652, 1.3435572174261916], [24.922707843648276, 5.0660052618813305, 3.409286564186598, 1.5747725566021096, 0.2858105847024652]]\n",
      "Cek [[78.10924504743868, 5.94487554089403, 2.783969946246971, 4.288523254238652, 1.3435572174261916], [24.922707843648276, 5.0660052618813305, 3.409286564186598, 1.5747725566021096, 0.2858105847024652], [128.35075051679783, 6.598851306518891, 2.9772527392011425, 5.512122478688397, 2.004178924218826]]\n",
      "Jumlah iterasi  8\n",
      "Cek [[77.5016208280708, 5.942660317080986, 2.7856479138288837, 4.276214419170626, 1.338330154132949]]\n",
      "Cek [[77.5016208280708, 5.942660317080986, 2.7856479138288837, 4.276214419170626, 1.338330154132949], [24.501125026007006, 5.062058722810627, 3.412963235822907, 1.562106917078145, 0.280759139672455]]\n",
      "Cek [[77.5016208280708, 5.942660317080986, 2.7856479138288837, 4.276214419170626, 1.338330154132949], [24.501125026007006, 5.062058722810627, 3.412963235822907, 1.562106917078145, 0.280759139672455], [128.2581050616573, 6.596958438460978, 2.9768613464804887, 5.510149877839168, 2.0033670516521784]]\n",
      "Jumlah iterasi  9\n",
      "Cek [[77.0392766997915, 5.940836605049418, 2.7867828673685007, 4.2665307910701555, 1.334133001706755]]\n",
      "Cek [[77.0392766997915, 5.940836605049418, 2.7867828673685007, 4.2665307910701555, 1.334133001706755], [24.239859334497805, 5.05963161536219, 3.4152563760474997, 1.5542661885021334, 0.2776296829621354]]\n",
      "Cek [[77.0392766997915, 5.940836605049418, 2.7867828673685007, 4.2665307910701555, 1.334133001706755], [24.239859334497805, 5.05963161536219, 3.4152563760474997, 1.5542661885021334, 0.2776296829621354], [128.116607427979, 6.5952643907156805, 2.9762852181236146, 5.50861600512097, 2.0025216864499673]]\n",
      "Jumlah iterasi  10\n",
      "Cek [[76.68513409402999, 5.939415760375471, 2.7876215906781807, 4.259046311769037, 1.3308708183595832]]\n",
      "Cek [[76.68513409402999, 5.939415760375471, 2.7876215906781807, 4.259046311769037, 1.3308708183595832], [24.06297650625836, 5.057995392621847, 3.4168191544280875, 1.5489514588243467, 0.2755069485357674]]\n",
      "Cek [[76.68513409402999, 5.939415760375471, 2.7876215906781807, 4.259046311769037, 1.3308708183595832], [24.06297650625836, 5.057995392621847, 3.4168191544280875, 1.5489514588243467, 0.2755069485357674], [127.98315901633691, 6.593836118300991, 2.975741806932538, 5.5073633587261135, 2.001763072158995]]\n",
      "Jumlah iterasi  11\n",
      "Cek [[76.41346525907336, 5.938314312874454, 2.788273270573445, 4.253269290170169, 1.328354713228224]]\n",
      "Cek [[76.41346525907336, 5.938314312874454, 2.788273270573445, 4.253269290170169, 1.328354713228224], [23.936038325211747, 5.056834445603811, 3.4179411985838892, 1.5451613076898838, 0.273992091531003]]\n",
      "Cek [[76.41346525907336, 5.938314312874454, 2.788273270573445, 4.253269290170169, 1.328354713228224], [23.936038325211747, 5.056834445603811, 3.4179411985838892, 1.5451613076898838, 0.273992091531003], [127.87183410727967, 6.592672930804802, 2.975286570239394, 5.506340052810088, 2.0011256077710984]]\n",
      "Jumlah iterasi  12\n",
      "Cek [[76.20500932174491, 5.937458429982142, 2.7887892060428197, 4.248806457484009, 1.3264168239595788]]\n",
      "Cek [[76.20500932174491, 5.937458429982142, 2.7887892060428197, 4.248806457484009, 1.3264168239595788], [23.841893176921403, 5.055987234288334, 3.4187701090404383, 1.5423825535549298, 0.2728807615374273]]\n",
      "Cek [[76.20500932174491, 5.937458429982142, 2.7887892060428197, 4.248806457484009, 1.3264168239595788], [23.841893176921403, 5.055987234288334, 3.4187701090404383, 1.5423825535549298, 0.2728807615374273], [127.78315937012204, 6.591745183847181, 2.974922302282656, 5.505513951557724, 2.0006078485184973]]\n",
      "Jumlah iterasi  13\n",
      "Cek [[76.04505628097179, 5.936792616183266, 2.789198789826544, 4.245358181989671, 1.324924640932525]]\n",
      "Cek [[76.04505628097179, 5.936792616183266, 2.789198789826544, 4.245358181989671, 1.324924640932525], [23.770866326097668, 5.0553589496913425, 3.4193919147262246, 1.5403134850132447, 0.2720528049369845]]\n",
      "Cek [[76.04505628097179, 5.936792616183266, 2.789198789826544, 4.245358181989671, 1.324924640932525], [23.770866326097668, 5.0553589496913425, 3.4193919147262246, 1.5403134850132447, 0.2720528049369845], [127.713913300908, 6.591014588438532, 2.9746366945094986, 5.504855046899076, 2.0001953389297213]]\n",
      "Jumlah iterasi  14\n",
      "Cek [[75.92232360607582, 5.936275011826074, 2.789522791827953, 4.24269521181859, 1.3237759306173174]]\n",
      "Cek [[75.92232360607582, 5.936275011826074, 2.789522791827953, 4.24269521181859, 1.3237759306173174], [23.71682367035058, 5.05488841741868, 3.419862283743438, 1.5387586327447937, 0.2714303329755408]]\n",
      "Cek [[75.92232360607582, 5.936275011826074, 2.789522791827953, 4.24269521181859, 1.3237759306173174], [23.71682367035058, 5.05488841741868, 3.419862283743438, 1.5387586327447937, 0.2714303329755408], [127.66032523918415, 6.590443825047587, 2.9744149268762343, 5.504334564735815, 1.9998704977491766]]\n",
      "Jumlah iterasi  15\n",
      "Cek [[75.82815207474654, 5.935873285185631, 2.7897777515828786, 4.240640515858043, 1.3228919668041665]]\n",
      "Cek [[75.82815207474654, 5.935873285185631, 2.7897777515828786, 4.240640515858043, 1.3228919668041665], [23.67553270778871, 5.054533754467799, 3.420219802124672, 1.5375833868443376, 0.2709596608538102]]\n",
      "Cek [[75.82815207474654, 5.935873285185631, 2.7897777515828786, 4.240640515858043, 1.3228919668041665], [23.67553270778871, 5.054533754467799, 3.420219802124672, 1.5375833868443376, 0.2709596608538102], [127.61903064797497, 6.590000232856898, 2.974243573593849, 5.503926415682508, 1.9996165987919534]]\n"
     ]
    },
    {
     "ename": "ValueError",
     "evalue": "too many values to unpack (expected 2)",
     "output_type": "error",
     "traceback": [
      "\u001b[1;31m---------------------------------------------------------------------------\u001b[0m",
      "\u001b[1;31mValueError\u001b[0m                                Traceback (most recent call last)",
      "\u001b[1;32m<ipython-input-40-04c238d58ed4>\u001b[0m in \u001b[0;36m<module>\u001b[1;34m\u001b[0m\n\u001b[0;32m     11\u001b[0m \u001b[0mcluster_centers\u001b[0m\u001b[1;33m,\u001b[0m \u001b[0mfinal_memberships\u001b[0m \u001b[1;33m=\u001b[0m \u001b[0mfkm\u001b[0m\u001b[1;33m(\u001b[0m\u001b[0mnumber_of_clusters\u001b[0m\u001b[1;33m,\u001b[0m \u001b[0miterations\u001b[0m\u001b[1;33m,\u001b[0m \u001b[0mtrain_data\u001b[0m\u001b[1;33m,\u001b[0m \u001b[0mm\u001b[0m\u001b[1;33m,\u001b[0m \u001b[0merror\u001b[0m\u001b[1;33m)\u001b[0m  \u001b[1;31m# run FCM\u001b[0m\u001b[1;33m\u001b[0m\u001b[1;33m\u001b[0m\u001b[0m\n\u001b[0;32m     12\u001b[0m \u001b[0mrunKmeans\u001b[0m \u001b[1;33m=\u001b[0m \u001b[0mround\u001b[0m\u001b[1;33m(\u001b[0m\u001b[1;33m(\u001b[0m\u001b[0mtime\u001b[0m\u001b[1;33m.\u001b[0m\u001b[0mtime\u001b[0m\u001b[1;33m(\u001b[0m\u001b[1;33m)\u001b[0m \u001b[1;33m-\u001b[0m \u001b[0mstart_time\u001b[0m\u001b[1;33m)\u001b[0m\u001b[1;33m,\u001b[0m \u001b[1;36m3\u001b[0m\u001b[1;33m)\u001b[0m\u001b[1;33m\u001b[0m\u001b[1;33m\u001b[0m\u001b[0m\n\u001b[1;32m---> 13\u001b[1;33m \u001b[0mplot_2d_with_markers\u001b[0m\u001b[1;33m(\u001b[0m\u001b[0mcluster_centers\u001b[0m\u001b[1;33m,\u001b[0m \u001b[0mtrain_data\u001b[0m\u001b[1;33m,\u001b[0m \u001b[0mfinal_memberships\u001b[0m\u001b[1;33m)\u001b[0m  \u001b[1;31m# plot final result\u001b[0m\u001b[1;33m\u001b[0m\u001b[1;33m\u001b[0m\u001b[0m\n\u001b[0m\u001b[0;32m     14\u001b[0m \u001b[1;33m\u001b[0m\u001b[0m\n\u001b[0;32m     15\u001b[0m \u001b[0mfinal_labels\u001b[0m \u001b[1;33m=\u001b[0m \u001b[0mget_cluster_labels\u001b[0m\u001b[1;33m(\u001b[0m\u001b[0mfinal_memberships\u001b[0m\u001b[1;33m)\u001b[0m  \u001b[1;31m# get labels\u001b[0m\u001b[1;33m\u001b[0m\u001b[1;33m\u001b[0m\u001b[0m\n",
      "\u001b[1;32m<ipython-input-31-0a85840be0c2>\u001b[0m in \u001b[0;36mplot_2d_with_markers\u001b[1;34m(clusters, dataset, membership)\u001b[0m\n\u001b[0;32m      2\u001b[0m \u001b[1;32mdef\u001b[0m \u001b[0mplot_2d_with_markers\u001b[0m\u001b[1;33m(\u001b[0m\u001b[0mclusters\u001b[0m\u001b[1;33m,\u001b[0m \u001b[0mdataset\u001b[0m\u001b[1;33m,\u001b[0m \u001b[0mmembership\u001b[0m\u001b[1;33m)\u001b[0m\u001b[1;33m:\u001b[0m\u001b[1;33m\u001b[0m\u001b[1;33m\u001b[0m\u001b[0m\n\u001b[0;32m      3\u001b[0m     \u001b[0mlabels\u001b[0m \u001b[1;33m=\u001b[0m \u001b[0mget_cluster_labels\u001b[0m\u001b[1;33m(\u001b[0m\u001b[0mmembership\u001b[0m\u001b[1;33m)\u001b[0m\u001b[1;33m\u001b[0m\u001b[1;33m\u001b[0m\u001b[0m\n\u001b[1;32m----> 4\u001b[1;33m     \u001b[0mplot_2d_dataset\u001b[0m\u001b[1;33m(\u001b[0m\u001b[0mdataset\u001b[0m\u001b[1;33m,\u001b[0m \u001b[0mmarkers\u001b[0m\u001b[1;33m=\u001b[0m\u001b[0mclusters\u001b[0m\u001b[1;33m,\u001b[0m \u001b[0mlabels\u001b[0m\u001b[1;33m=\u001b[0m\u001b[0mlabels\u001b[0m\u001b[1;33m)\u001b[0m\u001b[1;33m\u001b[0m\u001b[1;33m\u001b[0m\u001b[0m\n\u001b[0m",
      "\u001b[1;32m<ipython-input-30-4dcd3950e1fb>\u001b[0m in \u001b[0;36mplot_2d_dataset\u001b[1;34m(dataset, markers, labels)\u001b[0m\n\u001b[0;32m      1\u001b[0m \u001b[1;31m# print plot 2d dataset\u001b[0m\u001b[1;33m\u001b[0m\u001b[1;33m\u001b[0m\u001b[1;33m\u001b[0m\u001b[0m\n\u001b[0;32m      2\u001b[0m \u001b[1;32mdef\u001b[0m \u001b[0mplot_2d_dataset\u001b[0m\u001b[1;33m(\u001b[0m\u001b[0mdataset\u001b[0m\u001b[1;33m,\u001b[0m \u001b[0mmarkers\u001b[0m\u001b[1;33m=\u001b[0m\u001b[1;32mNone\u001b[0m\u001b[1;33m,\u001b[0m \u001b[0mlabels\u001b[0m\u001b[1;33m=\u001b[0m\u001b[1;32mNone\u001b[0m\u001b[1;33m)\u001b[0m\u001b[1;33m:\u001b[0m\u001b[1;33m\u001b[0m\u001b[1;33m\u001b[0m\u001b[0m\n\u001b[1;32m----> 3\u001b[1;33m     \u001b[0mx\u001b[0m\u001b[1;33m,\u001b[0m \u001b[0my\u001b[0m \u001b[1;33m=\u001b[0m \u001b[0mnp\u001b[0m\u001b[1;33m.\u001b[0m\u001b[0masarray\u001b[0m\u001b[1;33m(\u001b[0m\u001b[0mdataset\u001b[0m\u001b[1;33m)\u001b[0m\u001b[1;33m.\u001b[0m\u001b[0mT\u001b[0m\u001b[1;33m\u001b[0m\u001b[1;33m\u001b[0m\u001b[0m\n\u001b[0m\u001b[0;32m      4\u001b[0m     \u001b[1;32mif\u001b[0m \u001b[0mlabels\u001b[0m \u001b[1;32mis\u001b[0m \u001b[1;32mNone\u001b[0m\u001b[1;33m:\u001b[0m\u001b[1;33m\u001b[0m\u001b[1;33m\u001b[0m\u001b[0m\n\u001b[0;32m      5\u001b[0m         \u001b[0mlabels\u001b[0m \u001b[1;33m=\u001b[0m \u001b[1;33m[\u001b[0m\u001b[1;33m]\u001b[0m\u001b[1;33m\u001b[0m\u001b[1;33m\u001b[0m\u001b[0m\n",
      "\u001b[1;31mValueError\u001b[0m: too many values to unpack (expected 2)"
     ]
    }
   ],
   "source": [
    "train_data = np.array(data)\n",
    "\n",
    "number_of_clusters = 3\n",
    "iterations = 3000\n",
    "m = 2\n",
    "error = 0.0001\n",
    "\n",
    "\n",
    "init_color_dict(number_of_clusters)  # init colors for plotting\n",
    "start_time = time.time()\n",
    "cluster_centers, final_memberships = fkm(number_of_clusters, iterations, train_data, m, error)  # run FCM\n",
    "runKmeans = round((time.time() - start_time), 3)\n",
    "plot_2d_with_markers(cluster_centers, train_data, final_memberships)  # plot final result\n",
    "\n",
    "final_labels = get_cluster_labels(final_memberships)  # get labels\n",
    "\n",
    "print(\"Running time : %s seconds\" % runKmeans)\n",
    "print(final_labels)\n",
    "print(\"cluster centers :\")\n"
   ]
  },
  {
   "cell_type": "code",
   "execution_count": 41,
   "metadata": {},
   "outputs": [
    {
     "name": "stdout",
     "output_type": "stream",
     "text": [
      "cluster centers :\n",
      "[[ 75.82815207   5.93587329   2.78977775   4.24064052   1.32289197]\n",
      " [ 23.67553271   5.05453375   3.4202198    1.53758339   0.27095966]\n",
      " [127.61903065   6.59000023   2.97424357   5.50392642   1.9996166 ]]\n"
     ]
    }
   ],
   "source": [
    "print(\"cluster centers :\")\n",
    "print_dataset(cluster_centers)"
   ]
  },
  {
   "cell_type": "code",
   "execution_count": 42,
   "metadata": {},
   "outputs": [
    {
     "ename": "NameError",
     "evalue": "name 'final_labels' is not defined",
     "output_type": "error",
     "traceback": [
      "\u001b[1;31m---------------------------------------------------------------------------\u001b[0m",
      "\u001b[1;31mNameError\u001b[0m                                 Traceback (most recent call last)",
      "\u001b[1;32m<ipython-input-42-f243d44594be>\u001b[0m in \u001b[0;36m<module>\u001b[1;34m\u001b[0m\n\u001b[0;32m      3\u001b[0m \u001b[1;33m\u001b[0m\u001b[0m\n\u001b[0;32m      4\u001b[0m \u001b[1;31m# Add a column 'cluster' and to assign the labels\u001b[0m\u001b[1;33m\u001b[0m\u001b[1;33m\u001b[0m\u001b[1;33m\u001b[0m\u001b[0m\n\u001b[1;32m----> 5\u001b[1;33m \u001b[0mcluster_map\u001b[0m\u001b[1;33m[\u001b[0m\u001b[1;34m'Species'\u001b[0m\u001b[1;33m]\u001b[0m \u001b[1;33m=\u001b[0m \u001b[0mfinal_labels\u001b[0m\u001b[1;33m\u001b[0m\u001b[1;33m\u001b[0m\u001b[0m\n\u001b[0m\u001b[0;32m      6\u001b[0m \u001b[0mcluster_map\u001b[0m\u001b[1;33m\u001b[0m\u001b[1;33m\u001b[0m\u001b[0m\n",
      "\u001b[1;31mNameError\u001b[0m: name 'final_labels' is not defined"
     ]
    }
   ],
   "source": [
    "# Converted the data to a dataframe and create a cluster Map\n",
    "cluster_map = pd.DataFrame(data)\n",
    "\n",
    "# Add a column 'cluster' and to assign the labels\n",
    "cluster_map['Species'] = final_labels\n",
    "cluster_map"
   ]
  },
  {
   "cell_type": "code",
   "execution_count": 43,
   "metadata": {},
   "outputs": [],
   "source": [
    "data.to_csv('Iris_fuzzyclusteredp.csv')"
   ]
  },
  {
   "cell_type": "code",
   "execution_count": null,
   "metadata": {},
   "outputs": [],
   "source": []
  },
  {
   "cell_type": "code",
   "execution_count": null,
   "metadata": {},
   "outputs": [],
   "source": []
  },
  {
   "cell_type": "code",
   "execution_count": null,
   "metadata": {},
   "outputs": [],
   "source": []
  }
 ],
 "metadata": {
  "kernelspec": {
   "display_name": "Python 3",
   "language": "python",
   "name": "python3"
  },
  "language_info": {
   "codemirror_mode": {
    "name": "ipython",
    "version": 3
   },
   "file_extension": ".py",
   "mimetype": "text/x-python",
   "name": "python",
   "nbconvert_exporter": "python",
   "pygments_lexer": "ipython3",
   "version": "3.8.8"
  }
 },
 "nbformat": 4,
 "nbformat_minor": 4
}
