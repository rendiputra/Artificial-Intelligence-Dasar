{
 "cells": [
  {
   "cell_type": "code",
   "execution_count": 1,
   "metadata": {},
   "outputs": [],
   "source": [
    "from collections import defaultdict\n",
    "from datetime import datetime\n",
    "\n",
    "import numpy as np\n",
    "from matplotlib import pyplot as plt\n",
    "import random\n",
    "import math\n",
    "import time\n",
    "from sklearn import decomposition\n",
    "import pandas as pd"
   ]
  },
  {
   "cell_type": "code",
   "execution_count": 2,
   "metadata": {},
   "outputs": [],
   "source": [
    "color_dict = defaultdict()\n",
    "\n",
    "\n",
    "def init_color_dict(number_of_clusters):\n",
    "    color_dict[0] = '#448aff'\n",
    "    color_dict[1] = '#ec407a'\n",
    "    color_dict[2] = '#00e676'\n",
    "    color_dict[3] = '#ff6f00'\n",
    "    color_dict[4] = '#ef9a9a'\n",
    "    for i in range(5, number_of_clusters):\n",
    "        color_dict[i] = np.random.rand(1, 3)"
   ]
  },
  {
   "cell_type": "code",
   "execution_count": 3,
   "metadata": {},
   "outputs": [
    {
     "ename": "SyntaxError",
     "evalue": "Missing parentheses in call to 'print'. Did you mean print(dataset)? (<ipython-input-3-772db8ae403a>, line 1)",
     "output_type": "error",
     "traceback": [
      "\u001b[1;36m  File \u001b[1;32m\"<ipython-input-3-772db8ae403a>\"\u001b[1;36m, line \u001b[1;32m1\u001b[0m\n\u001b[1;33m    print dataset\u001b[0m\n\u001b[1;37m          ^\u001b[0m\n\u001b[1;31mSyntaxError\u001b[0m\u001b[1;31m:\u001b[0m Missing parentheses in call to 'print'. Did you mean print(dataset)?\n"
     ]
    }
   ],
   "source": [
    "# print dataset\n",
    "def print_dataset(dataset):\n",
    "    print(np.asarray(dataset))"
   ]
  },
  {
   "cell_type": "code",
   "execution_count": null,
   "metadata": {},
   "outputs": [],
   "source": [
    "# print plot 2d dataset\n",
    "def plot_2d_dataset(dataset, markers=None, labels=None):\n",
    "    x, y = np.asarray(dataset).T\n",
    "    if labels is None:\n",
    "        labels = []\n",
    "    if markers is None:\n",
    "        markers = []\n",
    "\n",
    "    for i in range(len(dataset)):\n",
    "        point = dataset[i]\n",
    "        plt.scatter(point[0], point[1], c=color_dict[labels[i]])\n",
    "\n",
    "    for marker in markers:\n",
    "        plt.scatter(marker[0], marker[1], s=200, marker='*')\n",
    "    plt.show()\n",
    "    plt.savefig(str(time.time()) + '.png')\n",
    "    plt.close()"
   ]
  },
  {
   "cell_type": "code",
   "execution_count": 40,
   "metadata": {},
   "outputs": [],
   "source": [
    "plot data final\n",
    "def plot_2d_with_markers(clusters, dataset, membership):\n",
    "    labels = get_cluster_labels(membership)\n",
    "    plot_2d_dataset(dataset, markers=clusters, labels=labels)"
   ]
  },
  {
   "cell_type": "code",
   "execution_count": 41,
   "metadata": {},
   "outputs": [],
   "source": [
    "# return a n * c membership function, generate random fungsi keanggotaan\n",
    "# n = number of data\n",
    "# c = number of clusters\n",
    "def generate_random_membership_function(n, c):\n",
    "    membership = np.random.rand(n, c)\n",
    "    # print(membership)\n",
    "    summation = [sum(center) for center in membership]\n",
    "    normalized = []\n",
    "    for i in range(len(membership)):\n",
    "        tmp = []\n",
    "        for d in membership[i]:\n",
    "            tmp.append(d / summation[i])\n",
    "        normalized.append(tmp)\n",
    "    return normalized"
   ]
  },
  {
   "cell_type": "code",
   "execution_count": 4,
   "metadata": {},
   "outputs": [],
   "source": [
    "# calculate weighted average of data points, menghitung dengan bobot, langkah 4\n",
    "# for each cluster i calculate sigma[k from 1 to n]((U_ik)^m * DATA_k)/sigma[k from 1 to n]((U_ik)^m)\n",
    "# m is fuzziness parameter\n",
    "def update_cluster_centers(dataset, membership_matrix, m):\n",
    "    number_of_clusters = len(membership_matrix[0])\n",
    "    cluster_centers = []\n",
    "    for i in range(number_of_clusters):\n",
    "        u_ik = list(zip(*membership_matrix))[i]\n",
    "        u_ik_m = [x ** m for x in u_ik]\n",
    "        sigma_u_ik_m = sum(u_ik_m)  # i is fixed\n",
    "        weighted_data = []\n",
    "        for k in range(len(dataset)):\n",
    "            weighted_vector = []\n",
    "            for f in range(len(dataset[k])):  # iterate over features\n",
    "                weighted_vector.append(u_ik_m[k] * dataset[k][f])\n",
    "            weighted_data.append(weighted_vector)\n",
    "        sigma_data_u_ik_m = [sum(x) for x in list(zip(*weighted_data))]\n",
    "        cluster_centers.append([sigma_data_u_ik_m[d]/sigma_u_ik_m for d in range(len(sigma_data_u_ik_m))])\n",
    "        print(\"Cek\", cluster_centers)\n",
    "    return cluster_centers"
   ]
  },
  {
   "cell_type": "code",
   "execution_count": 43,
   "metadata": {},
   "outputs": [],
   "source": [
    "# euclidean distance\n",
    "def euclidean_distance(p, q):\n",
    "    summation = 0\n",
    "    for i in range(len(p)):\n",
    "        summation += (p[i] - q[i]) ** 2\n",
    "    return math.sqrt(summation)"
   ]
  },
  {
   "cell_type": "code",
   "execution_count": 44,
   "metadata": {},
   "outputs": [],
   "source": [
    "# langkah 6\n",
    "def update_membership_matrix(dataset, clusters, m):\n",
    "    membership_matrix = []\n",
    "    fuzzy_power = float(2 / (m-1))\n",
    "    n = len(dataset)\n",
    "    c = len(clusters)\n",
    "    for i in range(n):\n",
    "        denom = sum([(1/euclidean_distance(dataset[i], clusters[x])) ** fuzzy_power for x in range(c)])\n",
    "        membership = []\n",
    "        for j in range(c):\n",
    "            num = (1/euclidean_distance(dataset[i], clusters[j])) ** fuzzy_power\n",
    "            membership.append(num/denom)\n",
    "        membership_matrix.append(membership)\n",
    "    return membership_matrix"
   ]
  },
  {
   "cell_type": "code",
   "execution_count": 45,
   "metadata": {},
   "outputs": [],
   "source": [
    "def get_cluster_labels(membership_matrix):\n",
    "    res = []\n",
    "    for membership in membership_matrix:\n",
    "        max_index = membership.index(max(membership))\n",
    "        res.append(max_index)\n",
    "    return res"
   ]
  },
  {
   "cell_type": "code",
   "execution_count": 46,
   "metadata": {},
   "outputs": [],
   "source": [
    "def fkm(cluster_no, iterations, dataset, m, error):\n",
    "    c = cluster_no\n",
    "    n = len(dataset)\n",
    "    vdata = np.mean(np.var(dataset, 0))\n",
    "    membership = generate_random_membership_function(n, c)\n",
    "\n",
    "    clusters = []\n",
    "    iterasi = 0\n",
    "    for i in range(iterations):\n",
    "        centers_old = clusters.copy()\n",
    "        clusters = update_cluster_centers(dataset, membership, m)\n",
    "        membership = update_membership_matrix(dataset, clusters, m)\n",
    "        iterasi += 1\n",
    "        if (np.sum(centers_old) - np.sum(clusters)) ** 2 < error * vdata:\n",
    "            break\n",
    "        print(\"Jumlah iterasi \", iterasi)\n",
    "    return clusters, membership"
   ]
  },
  {
   "cell_type": "code",
   "execution_count": 47,
   "metadata": {},
   "outputs": [],
   "source": [
    "data = pd.read_csv(\"IrisOri.csv\")"
   ]
  },
  {
   "cell_type": "code",
   "execution_count": 48,
   "metadata": {},
   "outputs": [
    {
     "data": {
      "text/html": [
       "<div>\n",
       "<style scoped>\n",
       "    .dataframe tbody tr th:only-of-type {\n",
       "        vertical-align: middle;\n",
       "    }\n",
       "\n",
       "    .dataframe tbody tr th {\n",
       "        vertical-align: top;\n",
       "    }\n",
       "\n",
       "    .dataframe thead th {\n",
       "        text-align: right;\n",
       "    }\n",
       "</style>\n",
       "<table border=\"1\" class=\"dataframe\">\n",
       "  <thead>\n",
       "    <tr style=\"text-align: right;\">\n",
       "      <th></th>\n",
       "      <th>Id</th>\n",
       "      <th>SepalLengthCm</th>\n",
       "      <th>SepalWidthCm</th>\n",
       "      <th>PetalLengthCm</th>\n",
       "      <th>PetalWidthCm</th>\n",
       "    </tr>\n",
       "  </thead>\n",
       "  <tbody>\n",
       "    <tr>\n",
       "      <th>0</th>\n",
       "      <td>1</td>\n",
       "      <td>5.1</td>\n",
       "      <td>3.5</td>\n",
       "      <td>1.4</td>\n",
       "      <td>0.2</td>\n",
       "    </tr>\n",
       "    <tr>\n",
       "      <th>1</th>\n",
       "      <td>2</td>\n",
       "      <td>4.9</td>\n",
       "      <td>3.0</td>\n",
       "      <td>1.4</td>\n",
       "      <td>0.2</td>\n",
       "    </tr>\n",
       "    <tr>\n",
       "      <th>2</th>\n",
       "      <td>3</td>\n",
       "      <td>4.7</td>\n",
       "      <td>3.2</td>\n",
       "      <td>1.3</td>\n",
       "      <td>0.2</td>\n",
       "    </tr>\n",
       "    <tr>\n",
       "      <th>3</th>\n",
       "      <td>4</td>\n",
       "      <td>4.6</td>\n",
       "      <td>3.1</td>\n",
       "      <td>1.5</td>\n",
       "      <td>0.2</td>\n",
       "    </tr>\n",
       "    <tr>\n",
       "      <th>4</th>\n",
       "      <td>5</td>\n",
       "      <td>5.0</td>\n",
       "      <td>3.6</td>\n",
       "      <td>1.4</td>\n",
       "      <td>0.2</td>\n",
       "    </tr>\n",
       "  </tbody>\n",
       "</table>\n",
       "</div>"
      ],
      "text/plain": [
       "   Id  SepalLengthCm  SepalWidthCm  PetalLengthCm  PetalWidthCm\n",
       "0   1            5.1           3.5            1.4           0.2\n",
       "1   2            4.9           3.0            1.4           0.2\n",
       "2   3            4.7           3.2            1.3           0.2\n",
       "3   4            4.6           3.1            1.5           0.2\n",
       "4   5            5.0           3.6            1.4           0.2"
      ]
     },
     "execution_count": 48,
     "metadata": {},
     "output_type": "execute_result"
    }
   ],
   "source": [
    "data.head()"
   ]
  },
  {
   "cell_type": "code",
   "execution_count": 49,
   "metadata": {},
   "outputs": [
    {
     "name": "stdout",
     "output_type": "stream",
     "text": [
      "[2, 2, 2, 2, 2, 2, 2, 2, 2, 2, 2, 2, 2, 2, 2, 2, 2, 2, 2, 2, 2, 2, 2, 2, 2, 2, 2, 2, 2, 2, 2, 2, 2, 2, 2, 2, 2, 2, 2, 2, 2, 2, 2, 2, 2, 2, 2, 2, 2, 1, 1, 1, 1, 1, 1, 1, 1, 1, 1, 1, 1, 1, 1, 1, 1, 1, 1, 1, 1, 1, 1, 1, 1, 1, 1, 1, 1, 1, 1, 1, 1, 1, 1, 1, 1, 1, 1, 1, 1, 1, 1, 1, 1, 1, 1, 1, 1, 1, 1, 1, 1, 0, 0, 0, 0, 0, 0, 0, 0, 0, 0, 0, 0, 0, 0, 0, 0, 0, 0, 0, 0, 0, 0, 0, 0, 0, 0, 0, 0, 0, 0, 0, 0, 0, 0, 0, 0, 0, 0, 0, 0, 0, 0, 0, 0, 0, 0, 0, 0, 0]\n"
     ]
    }
   ],
   "source": [
    "train_data = np.array(data)\n",
    "\n",
    "number_of_clusters = 3\n",
    "iterations = 3000\n",
    "m = 2\n",
    "error = 0.0001\n",
    "\n",
    "\n",
    "init_color_dict(number_of_clusters)  # init colors for plotting\n",
    "start_time = time.time()\n",
    "cluster_centers, final_memberships = fkm(number_of_clusters, iterations, train_data, m, error)  # run FCM\n",
    "# runKmeans = round((time.time() - start_time), 3)\n",
    "# plot_2d_with_markers(cluster_centers, train_data, final_memberships)  # plot final result\n",
    "\n",
    "final_labels = get_cluster_labels(final_memberships)  # get labels\n",
    "\n",
    "# print(\"Running time : %s seconds\" % runKmeans)\n",
    "print(final_labels)\n",
    "# print(\"cluster centers :\")\n"
   ]
  },
  {
   "cell_type": "code",
   "execution_count": 50,
   "metadata": {},
   "outputs": [
    {
     "name": "stdout",
     "output_type": "stream",
     "text": [
      "cluster centers :\n",
      "[[127.59520079   6.58974244   2.9741445    5.50368764   1.99946852]\n",
      " [ 75.77385032   5.93563948   2.78992763   4.23945044   1.32238103]\n",
      " [ 23.65173988   5.05433155   3.42042493   1.53691196   0.27069069]]\n"
     ]
    }
   ],
   "source": [
    "print(\"cluster centers :\")\n",
    "print_dataset(cluster_centers)"
   ]
  },
  {
   "cell_type": "code",
   "execution_count": 51,
   "metadata": {},
   "outputs": [
    {
     "data": {
      "text/html": [
       "<div>\n",
       "<style scoped>\n",
       "    .dataframe tbody tr th:only-of-type {\n",
       "        vertical-align: middle;\n",
       "    }\n",
       "\n",
       "    .dataframe tbody tr th {\n",
       "        vertical-align: top;\n",
       "    }\n",
       "\n",
       "    .dataframe thead th {\n",
       "        text-align: right;\n",
       "    }\n",
       "</style>\n",
       "<table border=\"1\" class=\"dataframe\">\n",
       "  <thead>\n",
       "    <tr style=\"text-align: right;\">\n",
       "      <th></th>\n",
       "      <th>Id</th>\n",
       "      <th>SepalLengthCm</th>\n",
       "      <th>SepalWidthCm</th>\n",
       "      <th>PetalLengthCm</th>\n",
       "      <th>PetalWidthCm</th>\n",
       "      <th>Species</th>\n",
       "    </tr>\n",
       "  </thead>\n",
       "  <tbody>\n",
       "    <tr>\n",
       "      <th>0</th>\n",
       "      <td>1</td>\n",
       "      <td>5.1</td>\n",
       "      <td>3.5</td>\n",
       "      <td>1.4</td>\n",
       "      <td>0.2</td>\n",
       "      <td>2</td>\n",
       "    </tr>\n",
       "    <tr>\n",
       "      <th>1</th>\n",
       "      <td>2</td>\n",
       "      <td>4.9</td>\n",
       "      <td>3.0</td>\n",
       "      <td>1.4</td>\n",
       "      <td>0.2</td>\n",
       "      <td>2</td>\n",
       "    </tr>\n",
       "    <tr>\n",
       "      <th>2</th>\n",
       "      <td>3</td>\n",
       "      <td>4.7</td>\n",
       "      <td>3.2</td>\n",
       "      <td>1.3</td>\n",
       "      <td>0.2</td>\n",
       "      <td>2</td>\n",
       "    </tr>\n",
       "    <tr>\n",
       "      <th>3</th>\n",
       "      <td>4</td>\n",
       "      <td>4.6</td>\n",
       "      <td>3.1</td>\n",
       "      <td>1.5</td>\n",
       "      <td>0.2</td>\n",
       "      <td>2</td>\n",
       "    </tr>\n",
       "    <tr>\n",
       "      <th>4</th>\n",
       "      <td>5</td>\n",
       "      <td>5.0</td>\n",
       "      <td>3.6</td>\n",
       "      <td>1.4</td>\n",
       "      <td>0.2</td>\n",
       "      <td>2</td>\n",
       "    </tr>\n",
       "    <tr>\n",
       "      <th>...</th>\n",
       "      <td>...</td>\n",
       "      <td>...</td>\n",
       "      <td>...</td>\n",
       "      <td>...</td>\n",
       "      <td>...</td>\n",
       "      <td>...</td>\n",
       "    </tr>\n",
       "    <tr>\n",
       "      <th>145</th>\n",
       "      <td>146</td>\n",
       "      <td>6.7</td>\n",
       "      <td>3.0</td>\n",
       "      <td>5.2</td>\n",
       "      <td>2.3</td>\n",
       "      <td>0</td>\n",
       "    </tr>\n",
       "    <tr>\n",
       "      <th>146</th>\n",
       "      <td>147</td>\n",
       "      <td>6.3</td>\n",
       "      <td>2.5</td>\n",
       "      <td>5.0</td>\n",
       "      <td>1.9</td>\n",
       "      <td>0</td>\n",
       "    </tr>\n",
       "    <tr>\n",
       "      <th>147</th>\n",
       "      <td>148</td>\n",
       "      <td>6.5</td>\n",
       "      <td>3.0</td>\n",
       "      <td>5.2</td>\n",
       "      <td>2.0</td>\n",
       "      <td>0</td>\n",
       "    </tr>\n",
       "    <tr>\n",
       "      <th>148</th>\n",
       "      <td>149</td>\n",
       "      <td>6.2</td>\n",
       "      <td>3.4</td>\n",
       "      <td>5.4</td>\n",
       "      <td>2.3</td>\n",
       "      <td>0</td>\n",
       "    </tr>\n",
       "    <tr>\n",
       "      <th>149</th>\n",
       "      <td>150</td>\n",
       "      <td>5.9</td>\n",
       "      <td>3.0</td>\n",
       "      <td>5.1</td>\n",
       "      <td>1.8</td>\n",
       "      <td>0</td>\n",
       "    </tr>\n",
       "  </tbody>\n",
       "</table>\n",
       "<p>150 rows × 6 columns</p>\n",
       "</div>"
      ],
      "text/plain": [
       "      Id  SepalLengthCm  SepalWidthCm  PetalLengthCm  PetalWidthCm  Species\n",
       "0      1            5.1           3.5            1.4           0.2        2\n",
       "1      2            4.9           3.0            1.4           0.2        2\n",
       "2      3            4.7           3.2            1.3           0.2        2\n",
       "3      4            4.6           3.1            1.5           0.2        2\n",
       "4      5            5.0           3.6            1.4           0.2        2\n",
       "..   ...            ...           ...            ...           ...      ...\n",
       "145  146            6.7           3.0            5.2           2.3        0\n",
       "146  147            6.3           2.5            5.0           1.9        0\n",
       "147  148            6.5           3.0            5.2           2.0        0\n",
       "148  149            6.2           3.4            5.4           2.3        0\n",
       "149  150            5.9           3.0            5.1           1.8        0\n",
       "\n",
       "[150 rows x 6 columns]"
      ]
     },
     "execution_count": 51,
     "metadata": {},
     "output_type": "execute_result"
    }
   ],
   "source": [
    "# Converted the data to a dataframe and create a cluster Map\n",
    "cluster_map = pd.DataFrame(data)\n",
    "\n",
    "# Add a column 'cluster' and to assign the labels\n",
    "cluster_map['Species'] = final_labels\n",
    "cluster_map"
   ]
  },
  {
   "cell_type": "code",
   "execution_count": 54,
   "metadata": {},
   "outputs": [],
   "source": [
    "data.to_csv('Iris_fuzzyclusteredp.csv')"
   ]
  },
  {
   "cell_type": "code",
   "execution_count": null,
   "metadata": {},
   "outputs": [],
   "source": []
  },
  {
   "cell_type": "code",
   "execution_count": null,
   "metadata": {},
   "outputs": [],
   "source": []
  },
  {
   "cell_type": "code",
   "execution_count": null,
   "metadata": {},
   "outputs": [],
   "source": []
  }
 ],
 "metadata": {
  "kernelspec": {
   "display_name": "Python 3",
   "language": "python",
   "name": "python3"
  },
  "language_info": {
   "codemirror_mode": {
    "name": "ipython",
    "version": 3
   },
   "file_extension": ".py",
   "mimetype": "text/x-python",
   "name": "python",
   "nbconvert_exporter": "python",
   "pygments_lexer": "ipython3",
   "version": "3.8.8"
  }
 },
 "nbformat": 4,
 "nbformat_minor": 4
}
