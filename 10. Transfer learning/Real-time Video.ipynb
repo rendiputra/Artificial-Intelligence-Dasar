{
 "cells": [
  {
   "cell_type": "code",
   "execution_count": 6,
   "metadata": {},
   "outputs": [],
   "source": [
    "import cv2\n",
    "import numpy as np\n",
    "from tensorflow.keras.models import load_model\n",
    "import imutils, time\n",
    "\n",
    "face_cascade = cv2.CascadeClassifier('haarcascade_frontalface_default.xml')\n",
    "\n",
    "model = load_model('face_recognition.h5')\n",
    "\n",
    "video_capture = cv2.VideoCapture(0)\n",
    "\n",
    "while True:\n",
    "    ret, frame =video_capture.read()\n",
    "    if not ret:\n",
    "        print(':(')\n",
    "        break\n",
    "        \n",
    "    res_frame = cv2.resize(frame, (frame.shape[1] // 4, frame.shape[0] // 4))\n",
    "    faces = face_cascade.detectMultiScale(res_frame)\n",
    "    for f in faces:\n",
    "        start_time = time.time()\n",
    "        (x, y, w, h) = [v * 4 for v in f] \n",
    "        face_img = frame[y:y+h, x:x+w]\n",
    "        resized = cv2.resize(face_img,(224,224))\n",
    "        normalized = resized/255.0\n",
    "        reshaped = np.reshape(normalized,(1,224,224,3))\n",
    "        reshaped = np.vstack([reshaped])\n",
    "        result = model.predict(reshaped)\n",
    "        result = np.argmax(result, axis=1)\n",
    "        actual.append(true_act)\n",
    "        \n",
    "        if result >= 0.8:\n",
    "            prediction = 'Male'\n",
    "            cv2.rectangle(frame,(x,y),(x+w,y+h),(0,0,255),2)\n",
    "            cv2.putText(frame, prediction, (x, y-10),cv2.FONT_HERSHEY_SIMPLEX,0.8,(0,0,255),2)\n",
    "        else:\n",
    "            prediction = 'Female'\n",
    "            cv2.rectangle(frame,(x,y),(x+w,y+h),(0,255,0),2)\n",
    "            cv2.putText(frame, prediction, (x, y-10),cv2.FONT_HERSHEY_SIMPLEX,0.8,(0,255,0),2)\n",
    "        \n",
    "        runpredict = round((time.time() - start_time), 3)\n",
    "        sumRun = sumRun + runpredict;\n",
    "        count += 1\n",
    "\n",
    "    cv2.imshow('Face_Gender_Detector', frame)\n",
    "\n",
    "    if cv2.waitKey(1) == 27:\n",
    "        break\n",
    "    if cv2.getWindowProperty('Face_Gender_Detector',cv2.WND_PROP_VISIBLE) < 1:        \n",
    "        break\n",
    "        \n",
    "video_capture.release()\n",
    "cv2.destroyAllWindows()"
   ]
  },
  {
   "cell_type": "code",
   "execution_count": null,
   "metadata": {},
   "outputs": [],
   "source": []
  }
 ],
 "metadata": {
  "kernelspec": {
   "display_name": "Python 3",
   "language": "python",
   "name": "python3"
  },
  "language_info": {
   "codemirror_mode": {
    "name": "ipython",
    "version": 3
   },
   "file_extension": ".py",
   "mimetype": "text/x-python",
   "name": "python",
   "nbconvert_exporter": "python",
   "pygments_lexer": "ipython3",
   "version": "3.7.6"
  }
 },
 "nbformat": 4,
 "nbformat_minor": 4
}
