{
 "cells": [
  {
   "cell_type": "markdown",
   "metadata": {
    "id": "WiMfPoK7IuF2"
   },
   "source": [
    "# Import library (Basic)"
   ]
  },
  {
   "cell_type": "code",
   "execution_count": 32,
   "metadata": {
    "id": "Lj5pK-RlIuF5"
   },
   "outputs": [],
   "source": [
    "import pandas as pd\n",
    "import numpy as np\n",
    "import matplotlib.pyplot as plt"
   ]
  },
  {
   "cell_type": "code",
   "execution_count": 33,
   "metadata": {
    "id": "80-osKo8IuF7"
   },
   "outputs": [],
   "source": [
    "data = pd.read_csv(\"diabetes.csv\")"
   ]
  },
  {
   "cell_type": "code",
   "execution_count": 34,
   "metadata": {
    "id": "Q3aDrSrEIuF8",
    "outputId": "7d2fe802-8db5-4aa8-fb11-cdd6815da84a"
   },
   "outputs": [
    {
     "data": {
      "text/html": [
       "<div>\n",
       "<style scoped>\n",
       "    .dataframe tbody tr th:only-of-type {\n",
       "        vertical-align: middle;\n",
       "    }\n",
       "\n",
       "    .dataframe tbody tr th {\n",
       "        vertical-align: top;\n",
       "    }\n",
       "\n",
       "    .dataframe thead th {\n",
       "        text-align: right;\n",
       "    }\n",
       "</style>\n",
       "<table border=\"1\" class=\"dataframe\">\n",
       "  <thead>\n",
       "    <tr style=\"text-align: right;\">\n",
       "      <th></th>\n",
       "      <th>Pregnancies</th>\n",
       "      <th>Glucose</th>\n",
       "      <th>BloodPressure</th>\n",
       "      <th>SkinThickness</th>\n",
       "      <th>Insulin</th>\n",
       "      <th>BMI</th>\n",
       "      <th>DiabetesPedigreeFunction</th>\n",
       "      <th>Age</th>\n",
       "      <th>Outcome</th>\n",
       "    </tr>\n",
       "  </thead>\n",
       "  <tbody>\n",
       "    <tr>\n",
       "      <th>0</th>\n",
       "      <td>6</td>\n",
       "      <td>148</td>\n",
       "      <td>72</td>\n",
       "      <td>35</td>\n",
       "      <td>0</td>\n",
       "      <td>33.6</td>\n",
       "      <td>0.627</td>\n",
       "      <td>50</td>\n",
       "      <td>1</td>\n",
       "    </tr>\n",
       "    <tr>\n",
       "      <th>1</th>\n",
       "      <td>1</td>\n",
       "      <td>85</td>\n",
       "      <td>66</td>\n",
       "      <td>29</td>\n",
       "      <td>0</td>\n",
       "      <td>26.6</td>\n",
       "      <td>0.351</td>\n",
       "      <td>31</td>\n",
       "      <td>0</td>\n",
       "    </tr>\n",
       "    <tr>\n",
       "      <th>2</th>\n",
       "      <td>8</td>\n",
       "      <td>183</td>\n",
       "      <td>64</td>\n",
       "      <td>0</td>\n",
       "      <td>0</td>\n",
       "      <td>23.3</td>\n",
       "      <td>0.672</td>\n",
       "      <td>32</td>\n",
       "      <td>1</td>\n",
       "    </tr>\n",
       "    <tr>\n",
       "      <th>3</th>\n",
       "      <td>1</td>\n",
       "      <td>89</td>\n",
       "      <td>66</td>\n",
       "      <td>23</td>\n",
       "      <td>94</td>\n",
       "      <td>28.1</td>\n",
       "      <td>0.167</td>\n",
       "      <td>21</td>\n",
       "      <td>0</td>\n",
       "    </tr>\n",
       "    <tr>\n",
       "      <th>4</th>\n",
       "      <td>0</td>\n",
       "      <td>137</td>\n",
       "      <td>40</td>\n",
       "      <td>35</td>\n",
       "      <td>168</td>\n",
       "      <td>43.1</td>\n",
       "      <td>2.288</td>\n",
       "      <td>33</td>\n",
       "      <td>1</td>\n",
       "    </tr>\n",
       "  </tbody>\n",
       "</table>\n",
       "</div>"
      ],
      "text/plain": [
       "   Pregnancies  Glucose  BloodPressure  SkinThickness  Insulin   BMI  \\\n",
       "0            6      148             72             35        0  33.6   \n",
       "1            1       85             66             29        0  26.6   \n",
       "2            8      183             64              0        0  23.3   \n",
       "3            1       89             66             23       94  28.1   \n",
       "4            0      137             40             35      168  43.1   \n",
       "\n",
       "   DiabetesPedigreeFunction  Age  Outcome  \n",
       "0                     0.627   50        1  \n",
       "1                     0.351   31        0  \n",
       "2                     0.672   32        1  \n",
       "3                     0.167   21        0  \n",
       "4                     2.288   33        1  "
      ]
     },
     "execution_count": 34,
     "metadata": {},
     "output_type": "execute_result"
    }
   ],
   "source": [
    "data.head()"
   ]
  },
  {
   "cell_type": "code",
   "execution_count": 35,
   "metadata": {
    "id": "HGfivXaNIuF-",
    "outputId": "5dcae7f1-fba7-49b2-dc67-e1dbdda94b9e"
   },
   "outputs": [
    {
     "data": {
      "text/plain": [
       "Pregnancies                 0\n",
       "Glucose                     0\n",
       "BloodPressure               0\n",
       "SkinThickness               0\n",
       "Insulin                     0\n",
       "BMI                         0\n",
       "DiabetesPedigreeFunction    0\n",
       "Age                         0\n",
       "Outcome                     0\n",
       "dtype: int64"
      ]
     },
     "execution_count": 35,
     "metadata": {},
     "output_type": "execute_result"
    }
   ],
   "source": [
    "data.isna().sum()"
   ]
  },
  {
   "cell_type": "code",
   "execution_count": 36,
   "metadata": {
    "id": "nADMTtxDIuF_",
    "outputId": "c0076efe-17a2-4a65-f17a-eb4e93624add"
   },
   "outputs": [
    {
     "name": "stdout",
     "output_type": "stream",
     "text": [
      "<class 'pandas.core.frame.DataFrame'>\n",
      "RangeIndex: 768 entries, 0 to 767\n",
      "Data columns (total 9 columns):\n",
      " #   Column                    Non-Null Count  Dtype  \n",
      "---  ------                    --------------  -----  \n",
      " 0   Pregnancies               768 non-null    int64  \n",
      " 1   Glucose                   768 non-null    int64  \n",
      " 2   BloodPressure             768 non-null    int64  \n",
      " 3   SkinThickness             768 non-null    int64  \n",
      " 4   Insulin                   768 non-null    int64  \n",
      " 5   BMI                       768 non-null    float64\n",
      " 6   DiabetesPedigreeFunction  768 non-null    float64\n",
      " 7   Age                       768 non-null    int64  \n",
      " 8   Outcome                   768 non-null    int64  \n",
      "dtypes: float64(2), int64(7)\n",
      "memory usage: 54.1 KB\n"
     ]
    }
   ],
   "source": [
    "data.info()"
   ]
  },
  {
   "cell_type": "markdown",
   "metadata": {
    "id": "FSR_Ien_IuGA"
   },
   "source": [
    "# Correlation"
   ]
  },
  {
   "cell_type": "code",
   "execution_count": 37,
   "metadata": {
    "id": "-KUgAS6qIuGC",
    "outputId": "fd8b5335-ba0b-44af-ac01-e157774214cf"
   },
   "outputs": [
    {
     "data": {
      "text/html": [
       "<div>\n",
       "<style scoped>\n",
       "    .dataframe tbody tr th:only-of-type {\n",
       "        vertical-align: middle;\n",
       "    }\n",
       "\n",
       "    .dataframe tbody tr th {\n",
       "        vertical-align: top;\n",
       "    }\n",
       "\n",
       "    .dataframe thead th {\n",
       "        text-align: right;\n",
       "    }\n",
       "</style>\n",
       "<table border=\"1\" class=\"dataframe\">\n",
       "  <thead>\n",
       "    <tr style=\"text-align: right;\">\n",
       "      <th></th>\n",
       "      <th>Pregnancies</th>\n",
       "      <th>Glucose</th>\n",
       "      <th>BloodPressure</th>\n",
       "      <th>SkinThickness</th>\n",
       "      <th>Insulin</th>\n",
       "      <th>BMI</th>\n",
       "      <th>DiabetesPedigreeFunction</th>\n",
       "      <th>Age</th>\n",
       "      <th>Outcome</th>\n",
       "    </tr>\n",
       "  </thead>\n",
       "  <tbody>\n",
       "    <tr>\n",
       "      <th>Pregnancies</th>\n",
       "      <td>1.000000</td>\n",
       "      <td>0.129459</td>\n",
       "      <td>0.141282</td>\n",
       "      <td>-0.081672</td>\n",
       "      <td>-0.073535</td>\n",
       "      <td>0.017683</td>\n",
       "      <td>-0.033523</td>\n",
       "      <td>0.544341</td>\n",
       "      <td>0.221898</td>\n",
       "    </tr>\n",
       "    <tr>\n",
       "      <th>Glucose</th>\n",
       "      <td>0.129459</td>\n",
       "      <td>1.000000</td>\n",
       "      <td>0.152590</td>\n",
       "      <td>0.057328</td>\n",
       "      <td>0.331357</td>\n",
       "      <td>0.221071</td>\n",
       "      <td>0.137337</td>\n",
       "      <td>0.263514</td>\n",
       "      <td>0.466581</td>\n",
       "    </tr>\n",
       "    <tr>\n",
       "      <th>BloodPressure</th>\n",
       "      <td>0.141282</td>\n",
       "      <td>0.152590</td>\n",
       "      <td>1.000000</td>\n",
       "      <td>0.207371</td>\n",
       "      <td>0.088933</td>\n",
       "      <td>0.281805</td>\n",
       "      <td>0.041265</td>\n",
       "      <td>0.239528</td>\n",
       "      <td>0.065068</td>\n",
       "    </tr>\n",
       "    <tr>\n",
       "      <th>SkinThickness</th>\n",
       "      <td>-0.081672</td>\n",
       "      <td>0.057328</td>\n",
       "      <td>0.207371</td>\n",
       "      <td>1.000000</td>\n",
       "      <td>0.436783</td>\n",
       "      <td>0.392573</td>\n",
       "      <td>0.183928</td>\n",
       "      <td>-0.113970</td>\n",
       "      <td>0.074752</td>\n",
       "    </tr>\n",
       "    <tr>\n",
       "      <th>Insulin</th>\n",
       "      <td>-0.073535</td>\n",
       "      <td>0.331357</td>\n",
       "      <td>0.088933</td>\n",
       "      <td>0.436783</td>\n",
       "      <td>1.000000</td>\n",
       "      <td>0.197859</td>\n",
       "      <td>0.185071</td>\n",
       "      <td>-0.042163</td>\n",
       "      <td>0.130548</td>\n",
       "    </tr>\n",
       "    <tr>\n",
       "      <th>BMI</th>\n",
       "      <td>0.017683</td>\n",
       "      <td>0.221071</td>\n",
       "      <td>0.281805</td>\n",
       "      <td>0.392573</td>\n",
       "      <td>0.197859</td>\n",
       "      <td>1.000000</td>\n",
       "      <td>0.140647</td>\n",
       "      <td>0.036242</td>\n",
       "      <td>0.292695</td>\n",
       "    </tr>\n",
       "    <tr>\n",
       "      <th>DiabetesPedigreeFunction</th>\n",
       "      <td>-0.033523</td>\n",
       "      <td>0.137337</td>\n",
       "      <td>0.041265</td>\n",
       "      <td>0.183928</td>\n",
       "      <td>0.185071</td>\n",
       "      <td>0.140647</td>\n",
       "      <td>1.000000</td>\n",
       "      <td>0.033561</td>\n",
       "      <td>0.173844</td>\n",
       "    </tr>\n",
       "    <tr>\n",
       "      <th>Age</th>\n",
       "      <td>0.544341</td>\n",
       "      <td>0.263514</td>\n",
       "      <td>0.239528</td>\n",
       "      <td>-0.113970</td>\n",
       "      <td>-0.042163</td>\n",
       "      <td>0.036242</td>\n",
       "      <td>0.033561</td>\n",
       "      <td>1.000000</td>\n",
       "      <td>0.238356</td>\n",
       "    </tr>\n",
       "    <tr>\n",
       "      <th>Outcome</th>\n",
       "      <td>0.221898</td>\n",
       "      <td>0.466581</td>\n",
       "      <td>0.065068</td>\n",
       "      <td>0.074752</td>\n",
       "      <td>0.130548</td>\n",
       "      <td>0.292695</td>\n",
       "      <td>0.173844</td>\n",
       "      <td>0.238356</td>\n",
       "      <td>1.000000</td>\n",
       "    </tr>\n",
       "  </tbody>\n",
       "</table>\n",
       "</div>"
      ],
      "text/plain": [
       "                          Pregnancies   Glucose  BloodPressure  SkinThickness  \\\n",
       "Pregnancies                  1.000000  0.129459       0.141282      -0.081672   \n",
       "Glucose                      0.129459  1.000000       0.152590       0.057328   \n",
       "BloodPressure                0.141282  0.152590       1.000000       0.207371   \n",
       "SkinThickness               -0.081672  0.057328       0.207371       1.000000   \n",
       "Insulin                     -0.073535  0.331357       0.088933       0.436783   \n",
       "BMI                          0.017683  0.221071       0.281805       0.392573   \n",
       "DiabetesPedigreeFunction    -0.033523  0.137337       0.041265       0.183928   \n",
       "Age                          0.544341  0.263514       0.239528      -0.113970   \n",
       "Outcome                      0.221898  0.466581       0.065068       0.074752   \n",
       "\n",
       "                           Insulin       BMI  DiabetesPedigreeFunction  \\\n",
       "Pregnancies              -0.073535  0.017683                 -0.033523   \n",
       "Glucose                   0.331357  0.221071                  0.137337   \n",
       "BloodPressure             0.088933  0.281805                  0.041265   \n",
       "SkinThickness             0.436783  0.392573                  0.183928   \n",
       "Insulin                   1.000000  0.197859                  0.185071   \n",
       "BMI                       0.197859  1.000000                  0.140647   \n",
       "DiabetesPedigreeFunction  0.185071  0.140647                  1.000000   \n",
       "Age                      -0.042163  0.036242                  0.033561   \n",
       "Outcome                   0.130548  0.292695                  0.173844   \n",
       "\n",
       "                               Age   Outcome  \n",
       "Pregnancies               0.544341  0.221898  \n",
       "Glucose                   0.263514  0.466581  \n",
       "BloodPressure             0.239528  0.065068  \n",
       "SkinThickness            -0.113970  0.074752  \n",
       "Insulin                  -0.042163  0.130548  \n",
       "BMI                       0.036242  0.292695  \n",
       "DiabetesPedigreeFunction  0.033561  0.173844  \n",
       "Age                       1.000000  0.238356  \n",
       "Outcome                   0.238356  1.000000  "
      ]
     },
     "execution_count": 37,
     "metadata": {},
     "output_type": "execute_result"
    }
   ],
   "source": [
    "data.corr()"
   ]
  },
  {
   "cell_type": "markdown",
   "metadata": {
    "id": "gIIySyFFIuGE"
   },
   "source": [
    "# Data Preprocessing"
   ]
  },
  {
   "cell_type": "code",
   "execution_count": 38,
   "metadata": {
    "id": "9FUUpCqOIuGH"
   },
   "outputs": [],
   "source": [
    "X = data.iloc[:,:-1]\n",
    "y = data.iloc[:,-1]"
   ]
  },
  {
   "cell_type": "code",
   "execution_count": 39,
   "metadata": {
    "id": "LIr0oiLSIuGH",
    "outputId": "ef028481-253b-4876-aa8c-f807319fc749"
   },
   "outputs": [
    {
     "data": {
      "text/html": [
       "<div>\n",
       "<style scoped>\n",
       "    .dataframe tbody tr th:only-of-type {\n",
       "        vertical-align: middle;\n",
       "    }\n",
       "\n",
       "    .dataframe tbody tr th {\n",
       "        vertical-align: top;\n",
       "    }\n",
       "\n",
       "    .dataframe thead th {\n",
       "        text-align: right;\n",
       "    }\n",
       "</style>\n",
       "<table border=\"1\" class=\"dataframe\">\n",
       "  <thead>\n",
       "    <tr style=\"text-align: right;\">\n",
       "      <th></th>\n",
       "      <th>Pregnancies</th>\n",
       "      <th>Glucose</th>\n",
       "      <th>BloodPressure</th>\n",
       "      <th>SkinThickness</th>\n",
       "      <th>Insulin</th>\n",
       "      <th>BMI</th>\n",
       "      <th>DiabetesPedigreeFunction</th>\n",
       "      <th>Age</th>\n",
       "    </tr>\n",
       "  </thead>\n",
       "  <tbody>\n",
       "    <tr>\n",
       "      <th>0</th>\n",
       "      <td>6</td>\n",
       "      <td>148</td>\n",
       "      <td>72</td>\n",
       "      <td>35</td>\n",
       "      <td>0</td>\n",
       "      <td>33.6</td>\n",
       "      <td>0.627</td>\n",
       "      <td>50</td>\n",
       "    </tr>\n",
       "    <tr>\n",
       "      <th>1</th>\n",
       "      <td>1</td>\n",
       "      <td>85</td>\n",
       "      <td>66</td>\n",
       "      <td>29</td>\n",
       "      <td>0</td>\n",
       "      <td>26.6</td>\n",
       "      <td>0.351</td>\n",
       "      <td>31</td>\n",
       "    </tr>\n",
       "    <tr>\n",
       "      <th>2</th>\n",
       "      <td>8</td>\n",
       "      <td>183</td>\n",
       "      <td>64</td>\n",
       "      <td>0</td>\n",
       "      <td>0</td>\n",
       "      <td>23.3</td>\n",
       "      <td>0.672</td>\n",
       "      <td>32</td>\n",
       "    </tr>\n",
       "    <tr>\n",
       "      <th>3</th>\n",
       "      <td>1</td>\n",
       "      <td>89</td>\n",
       "      <td>66</td>\n",
       "      <td>23</td>\n",
       "      <td>94</td>\n",
       "      <td>28.1</td>\n",
       "      <td>0.167</td>\n",
       "      <td>21</td>\n",
       "    </tr>\n",
       "    <tr>\n",
       "      <th>4</th>\n",
       "      <td>0</td>\n",
       "      <td>137</td>\n",
       "      <td>40</td>\n",
       "      <td>35</td>\n",
       "      <td>168</td>\n",
       "      <td>43.1</td>\n",
       "      <td>2.288</td>\n",
       "      <td>33</td>\n",
       "    </tr>\n",
       "    <tr>\n",
       "      <th>...</th>\n",
       "      <td>...</td>\n",
       "      <td>...</td>\n",
       "      <td>...</td>\n",
       "      <td>...</td>\n",
       "      <td>...</td>\n",
       "      <td>...</td>\n",
       "      <td>...</td>\n",
       "      <td>...</td>\n",
       "    </tr>\n",
       "    <tr>\n",
       "      <th>763</th>\n",
       "      <td>10</td>\n",
       "      <td>101</td>\n",
       "      <td>76</td>\n",
       "      <td>48</td>\n",
       "      <td>180</td>\n",
       "      <td>32.9</td>\n",
       "      <td>0.171</td>\n",
       "      <td>63</td>\n",
       "    </tr>\n",
       "    <tr>\n",
       "      <th>764</th>\n",
       "      <td>2</td>\n",
       "      <td>122</td>\n",
       "      <td>70</td>\n",
       "      <td>27</td>\n",
       "      <td>0</td>\n",
       "      <td>36.8</td>\n",
       "      <td>0.340</td>\n",
       "      <td>27</td>\n",
       "    </tr>\n",
       "    <tr>\n",
       "      <th>765</th>\n",
       "      <td>5</td>\n",
       "      <td>121</td>\n",
       "      <td>72</td>\n",
       "      <td>23</td>\n",
       "      <td>112</td>\n",
       "      <td>26.2</td>\n",
       "      <td>0.245</td>\n",
       "      <td>30</td>\n",
       "    </tr>\n",
       "    <tr>\n",
       "      <th>766</th>\n",
       "      <td>1</td>\n",
       "      <td>126</td>\n",
       "      <td>60</td>\n",
       "      <td>0</td>\n",
       "      <td>0</td>\n",
       "      <td>30.1</td>\n",
       "      <td>0.349</td>\n",
       "      <td>47</td>\n",
       "    </tr>\n",
       "    <tr>\n",
       "      <th>767</th>\n",
       "      <td>1</td>\n",
       "      <td>93</td>\n",
       "      <td>70</td>\n",
       "      <td>31</td>\n",
       "      <td>0</td>\n",
       "      <td>30.4</td>\n",
       "      <td>0.315</td>\n",
       "      <td>23</td>\n",
       "    </tr>\n",
       "  </tbody>\n",
       "</table>\n",
       "<p>768 rows × 8 columns</p>\n",
       "</div>"
      ],
      "text/plain": [
       "     Pregnancies  Glucose  BloodPressure  SkinThickness  Insulin   BMI  \\\n",
       "0              6      148             72             35        0  33.6   \n",
       "1              1       85             66             29        0  26.6   \n",
       "2              8      183             64              0        0  23.3   \n",
       "3              1       89             66             23       94  28.1   \n",
       "4              0      137             40             35      168  43.1   \n",
       "..           ...      ...            ...            ...      ...   ...   \n",
       "763           10      101             76             48      180  32.9   \n",
       "764            2      122             70             27        0  36.8   \n",
       "765            5      121             72             23      112  26.2   \n",
       "766            1      126             60              0        0  30.1   \n",
       "767            1       93             70             31        0  30.4   \n",
       "\n",
       "     DiabetesPedigreeFunction  Age  \n",
       "0                       0.627   50  \n",
       "1                       0.351   31  \n",
       "2                       0.672   32  \n",
       "3                       0.167   21  \n",
       "4                       2.288   33  \n",
       "..                        ...  ...  \n",
       "763                     0.171   63  \n",
       "764                     0.340   27  \n",
       "765                     0.245   30  \n",
       "766                     0.349   47  \n",
       "767                     0.315   23  \n",
       "\n",
       "[768 rows x 8 columns]"
      ]
     },
     "execution_count": 39,
     "metadata": {},
     "output_type": "execute_result"
    }
   ],
   "source": [
    "X"
   ]
  },
  {
   "cell_type": "code",
   "execution_count": 40,
   "metadata": {
    "id": "dcfI3jaWIuGI",
    "outputId": "68ac0bfe-8178-4f1a-c28d-db2fcb9371cd"
   },
   "outputs": [
    {
     "data": {
      "text/plain": [
       "0      1\n",
       "1      0\n",
       "2      1\n",
       "3      0\n",
       "4      1\n",
       "      ..\n",
       "763    0\n",
       "764    0\n",
       "765    0\n",
       "766    1\n",
       "767    0\n",
       "Name: Outcome, Length: 768, dtype: int64"
      ]
     },
     "execution_count": 40,
     "metadata": {},
     "output_type": "execute_result"
    }
   ],
   "source": [
    "y"
   ]
  },
  {
   "cell_type": "markdown",
   "metadata": {
    "id": "5X2Je8YiIuGI"
   },
   "source": [
    "## Train - Test Split"
   ]
  },
  {
   "cell_type": "code",
   "execution_count": 41,
   "metadata": {
    "id": "V06atKr-IuGJ"
   },
   "outputs": [],
   "source": [
    "from sklearn.model_selection import train_test_split"
   ]
  },
  {
   "cell_type": "code",
   "execution_count": 42,
   "metadata": {
    "id": "RdN7zqPnIuGK"
   },
   "outputs": [],
   "source": [
    "X_train, X_test, y_train, y_test = train_test_split(X,y, test_size=0.2, random_state=10)"
   ]
  },
  {
   "cell_type": "code",
   "execution_count": 43,
   "metadata": {
    "id": "MoK58qs1IuGL"
   },
   "outputs": [],
   "source": [
    "from collections import Counter"
   ]
  },
  {
   "cell_type": "code",
   "execution_count": 44,
   "metadata": {
    "id": "PeeKYO8SIuGL",
    "outputId": "688f9232-b09c-4334-9fb8-251c59f40a13"
   },
   "outputs": [
    {
     "name": "stdout",
     "output_type": "stream",
     "text": [
      "Banyak train: Counter({0: 405, 1: 209})\n",
      "Banyak test: Counter({0: 95, 1: 59})\n"
     ]
    }
   ],
   "source": [
    "print(f'Banyak train: {Counter(y_train)}')\n",
    "print(f'Banyak test: {Counter(y_test)}')"
   ]
  },
  {
   "cell_type": "markdown",
   "metadata": {
    "id": "lVLuc2zuIuGM"
   },
   "source": [
    "## Scaling `[0,1]`"
   ]
  },
  {
   "cell_type": "code",
   "execution_count": 45,
   "metadata": {
    "id": "6fa51yFcIuGM"
   },
   "outputs": [],
   "source": [
    "from sklearn.preprocessing import MinMaxScaler"
   ]
  },
  {
   "cell_type": "code",
   "execution_count": 46,
   "metadata": {
    "id": "OFxLtQhYIuGN",
    "outputId": "16823a38-b31b-4548-b80d-309d79dbabf4"
   },
   "outputs": [
    {
     "data": {
      "text/plain": [
       "MinMaxScaler()"
      ]
     },
     "execution_count": 46,
     "metadata": {},
     "output_type": "execute_result"
    }
   ],
   "source": [
    "sc = MinMaxScaler()\n",
    "sc.fit(X_train)"
   ]
  },
  {
   "cell_type": "code",
   "execution_count": 47,
   "metadata": {
    "id": "vs2K0P_xIuGO"
   },
   "outputs": [],
   "source": [
    "X_train = sc.transform(X_train)\n",
    "X_test = sc.transform(X_test)"
   ]
  },
  {
   "cell_type": "code",
   "execution_count": 48,
   "metadata": {
    "id": "h8gFDcSFIuGR",
    "outputId": "8e5c1d74-d8c2-4381-8644-a66d86db32df"
   },
   "outputs": [
    {
     "data": {
      "text/plain": [
       "(array([[0.        , 0.81407035, 0.62295082, ..., 0.7928465 , 0.29077711,\n",
       "         0.06666667],\n",
       "        [0.11764706, 0.43718593, 0.        , ..., 0.43070045, 0.29675491,\n",
       "         0.06666667],\n",
       "        [0.        , 0.68844221, 0.55737705, ..., 0.36959762, 0.02775406,\n",
       "         0.        ],\n",
       "        ...,\n",
       "        [0.17647059, 0.58291457, 0.60655738, ..., 0.39195231, 0.01238258,\n",
       "         0.05      ],\n",
       "        [0.05882353, 0.44221106, 0.24590164, ..., 0.81967213, 0.17847993,\n",
       "         0.08333333],\n",
       "        [0.29411765, 0.48241206, 0.60655738, ..., 0.50074516, 0.39239966,\n",
       "         0.36666667]]),\n",
       " array([[0.23529412, 0.77386935, 0.59016393, ..., 0.46646796, 0.11101623,\n",
       "         0.26666667],\n",
       "        [0.11764706, 0.56281407, 0.70491803, ..., 0.57228018, 0.07173356,\n",
       "         0.11666667],\n",
       "        [0.05882353, 0.67839196, 0.44262295, ..., 0.39791356, 0.26003416,\n",
       "         0.68333333],\n",
       "        ...,\n",
       "        [0.47058824, 0.42713568, 0.45081967, ..., 0.36363636, 0.02476516,\n",
       "         0.35      ],\n",
       "        [0.29411765, 0.65326633, 0.67213115, ..., 0.58271237, 0.37489325,\n",
       "         0.26666667],\n",
       "        [0.17647059, 0.49748744, 0.44262295, ..., 0.38152012, 0.0324509 ,\n",
       "         0.05      ]]))"
      ]
     },
     "execution_count": 48,
     "metadata": {},
     "output_type": "execute_result"
    }
   ],
   "source": [
    "(X_train, X_test)"
   ]
  },
  {
   "cell_type": "markdown",
   "metadata": {
    "id": "olDGFfimIuGT"
   },
   "source": [
    "# Deep Neural Network"
   ]
  },
  {
   "cell_type": "code",
   "execution_count": 49,
   "metadata": {
    "id": "mwa3wA4NIuGU",
    "outputId": "2dd85457-6f6d-47ee-f821-f51fd8c2ea2c"
   },
   "outputs": [
    {
     "data": {
      "text/plain": [
       "(768, 8)"
      ]
     },
     "execution_count": 49,
     "metadata": {},
     "output_type": "execute_result"
    }
   ],
   "source": [
    "X.shape"
   ]
  },
  {
   "cell_type": "code",
   "execution_count": 50,
   "metadata": {
    "id": "Nw-DURkGIuGc",
    "scrolled": true
   },
   "outputs": [],
   "source": [
    "from keras.models import Sequential\n",
    "from keras.layers import Dense"
   ]
  },
  {
   "cell_type": "code",
   "execution_count": 51,
   "metadata": {
    "id": "N7fw5cpjIuGc"
   },
   "outputs": [],
   "source": [
    "model = Sequential()\n",
    "\n",
    "model.add(Dense(15, input_dim=8, activation='relu'))\n",
    "model.add(Dense(40, activation='relu'))\n",
    "model.add(Dense(20, activation='relu'))\n",
    "model.add(Dense(2, activation='softmax'))"
   ]
  },
  {
   "cell_type": "code",
   "execution_count": 52,
   "metadata": {
    "id": "Feobb_6sIuGd",
    "outputId": "e9800e71-82cc-4401-fc03-36d7d84f07eb"
   },
   "outputs": [
    {
     "name": "stdout",
     "output_type": "stream",
     "text": [
      "Model: \"sequential_1\"\n",
      "_________________________________________________________________\n",
      "Layer (type)                 Output Shape              Param #   \n",
      "=================================================================\n",
      "dense_4 (Dense)              (None, 15)                135       \n",
      "_________________________________________________________________\n",
      "dense_5 (Dense)              (None, 40)                640       \n",
      "_________________________________________________________________\n",
      "dense_6 (Dense)              (None, 20)                820       \n",
      "_________________________________________________________________\n",
      "dense_7 (Dense)              (None, 2)                 42        \n",
      "=================================================================\n",
      "Total params: 1,637\n",
      "Trainable params: 1,637\n",
      "Non-trainable params: 0\n",
      "_________________________________________________________________\n"
     ]
    }
   ],
   "source": [
    "model.summary()"
   ]
  },
  {
   "cell_type": "code",
   "execution_count": 53,
   "metadata": {
    "id": "8K-wcGcqIuGm"
   },
   "outputs": [],
   "source": [
    "from keras.callbacks import ModelCheckpoint\n",
    "import os"
   ]
  },
  {
   "cell_type": "code",
   "execution_count": 54,
   "metadata": {
    "id": "hxzpTvISIuHP"
   },
   "outputs": [],
   "source": [
    "checkpoint_path = \"./Hasil Model/cp-{epoch:04d}.hdf5\"\n",
    "checkpoint_dir = os.path.dirname(checkpoint_path)\n",
    "\n",
    "cp_callback = ModelCheckpoint(\n",
    "    checkpoint_path, verbose = 1, save_weights_only = True,\n",
    "    save_freq = 'epoch'\n",
    ")"
   ]
  },
  {
   "cell_type": "code",
   "execution_count": 55,
   "metadata": {
    "id": "7IlHAKAvIuHv"
   },
   "outputs": [],
   "source": [
    "model.compile(loss='sparse_categorical_crossentropy',optimizer='adam',metrics=['accuracy'])"
   ]
  },
  {
   "cell_type": "code",
   "execution_count": 56,
   "metadata": {
    "id": "Ig3dvA2_IuHx",
    "outputId": "2aaacedb-4b23-49fe-cfa9-8a7b9ba88b71"
   },
   "outputs": [
    {
     "name": "stdout",
     "output_type": "stream",
     "text": [
      "Epoch 1/50\n",
      " 1/33 [..............................] - ETA: 0s - loss: 0.6493 - accuracy: 0.6875\n",
      "Epoch 00001: saving model to ./Hasil Model\\cp-0001.hdf5\n",
      "33/33 [==============================] - 0s 6ms/step - loss: 0.6598 - accuracy: 0.6603 - val_loss: 0.6513 - val_accuracy: 0.6559\n",
      "Epoch 2/50\n",
      "32/33 [============================>.] - ETA: 0s - loss: 0.6375 - accuracy: 0.6582\n",
      "Epoch 00002: saving model to ./Hasil Model\\cp-0002.hdf5\n",
      "33/33 [==============================] - 0s 2ms/step - loss: 0.6367 - accuracy: 0.6603 - val_loss: 0.6349 - val_accuracy: 0.6559\n",
      "Epoch 3/50\n",
      "27/33 [=======================>......] - ETA: 0s - loss: 0.6159 - accuracy: 0.6690\n",
      "Epoch 00003: saving model to ./Hasil Model\\cp-0003.hdf5\n",
      "33/33 [==============================] - 0s 3ms/step - loss: 0.6144 - accuracy: 0.6603 - val_loss: 0.6185 - val_accuracy: 0.6667\n",
      "Epoch 4/50\n",
      " 1/33 [..............................] - ETA: 0s - loss: 0.6312 - accuracy: 0.6875\n",
      "Epoch 00004: saving model to ./Hasil Model\\cp-0004.hdf5\n",
      "33/33 [==============================] - 0s 2ms/step - loss: 0.5930 - accuracy: 0.6871 - val_loss: 0.6038 - val_accuracy: 0.6667\n",
      "Epoch 5/50\n",
      "33/33 [==============================] - ETA: 0s - loss: 0.5765 - accuracy: 0.7198\n",
      "Epoch 00005: saving model to ./Hasil Model\\cp-0005.hdf5\n",
      "33/33 [==============================] - 0s 3ms/step - loss: 0.5765 - accuracy: 0.7198 - val_loss: 0.5940 - val_accuracy: 0.6667\n",
      "Epoch 6/50\n",
      " 1/33 [..............................] - ETA: 0s - loss: 0.4936 - accuracy: 0.7500\n",
      "Epoch 00006: saving model to ./Hasil Model\\cp-0006.hdf5\n",
      "33/33 [==============================] - 0s 2ms/step - loss: 0.5594 - accuracy: 0.7217 - val_loss: 0.5795 - val_accuracy: 0.7419\n",
      "Epoch 7/50\n",
      " 1/33 [..............................] - ETA: 0s - loss: 0.4916 - accuracy: 0.8125\n",
      "Epoch 00007: saving model to ./Hasil Model\\cp-0007.hdf5\n",
      "33/33 [==============================] - 0s 2ms/step - loss: 0.5445 - accuracy: 0.7274 - val_loss: 0.5672 - val_accuracy: 0.7634\n",
      "Epoch 8/50\n",
      " 1/33 [..............................] - ETA: 0s - loss: 0.5597 - accuracy: 0.6250\n",
      "Epoch 00008: saving model to ./Hasil Model\\cp-0008.hdf5\n",
      "33/33 [==============================] - 0s 2ms/step - loss: 0.5325 - accuracy: 0.7351 - val_loss: 0.5633 - val_accuracy: 0.7419\n",
      "Epoch 9/50\n",
      " 1/33 [..............................] - ETA: 0s - loss: 0.4909 - accuracy: 0.7500\n",
      "Epoch 00009: saving model to ./Hasil Model\\cp-0009.hdf5\n",
      "33/33 [==============================] - 0s 2ms/step - loss: 0.5200 - accuracy: 0.7390 - val_loss: 0.5666 - val_accuracy: 0.7634\n",
      "Epoch 10/50\n",
      " 1/33 [..............................] - ETA: 0s - loss: 0.5028 - accuracy: 0.8125\n",
      "Epoch 00010: saving model to ./Hasil Model\\cp-0010.hdf5\n",
      "33/33 [==============================] - 0s 2ms/step - loss: 0.5172 - accuracy: 0.7505 - val_loss: 0.5574 - val_accuracy: 0.7742\n",
      "Epoch 11/50\n",
      " 1/33 [..............................] - ETA: 0s - loss: 0.5613 - accuracy: 0.6250\n",
      "Epoch 00011: saving model to ./Hasil Model\\cp-0011.hdf5\n",
      "33/33 [==============================] - 0s 2ms/step - loss: 0.5040 - accuracy: 0.7582 - val_loss: 0.5471 - val_accuracy: 0.7312\n",
      "Epoch 12/50\n",
      " 1/33 [..............................] - ETA: 0s - loss: 0.2981 - accuracy: 0.9375\n",
      "Epoch 00012: saving model to ./Hasil Model\\cp-0012.hdf5\n",
      "33/33 [==============================] - 0s 2ms/step - loss: 0.4983 - accuracy: 0.7658 - val_loss: 0.5497 - val_accuracy: 0.7634\n",
      "Epoch 13/50\n",
      " 1/33 [..............................] - ETA: 0s - loss: 0.4601 - accuracy: 0.8125\n",
      "Epoch 00013: saving model to ./Hasil Model\\cp-0013.hdf5\n",
      "33/33 [==============================] - 0s 2ms/step - loss: 0.4910 - accuracy: 0.7620 - val_loss: 0.5411 - val_accuracy: 0.7527\n",
      "Epoch 14/50\n",
      " 1/33 [..............................] - ETA: 0s - loss: 0.4101 - accuracy: 0.7500\n",
      "Epoch 00014: saving model to ./Hasil Model\\cp-0014.hdf5\n",
      "33/33 [==============================] - 0s 2ms/step - loss: 0.4866 - accuracy: 0.7620 - val_loss: 0.5444 - val_accuracy: 0.7527\n",
      "Epoch 15/50\n",
      " 1/33 [..............................] - ETA: 0s - loss: 0.3294 - accuracy: 0.9375\n",
      "Epoch 00015: saving model to ./Hasil Model\\cp-0015.hdf5\n",
      "33/33 [==============================] - 0s 2ms/step - loss: 0.4774 - accuracy: 0.7774 - val_loss: 0.5420 - val_accuracy: 0.7419\n",
      "Epoch 16/50\n",
      " 1/33 [..............................] - ETA: 0s - loss: 0.3442 - accuracy: 0.7500\n",
      "Epoch 00016: saving model to ./Hasil Model\\cp-0016.hdf5\n",
      "33/33 [==============================] - 0s 2ms/step - loss: 0.4751 - accuracy: 0.7678 - val_loss: 0.5381 - val_accuracy: 0.7634\n",
      "Epoch 17/50\n",
      " 1/33 [..............................] - ETA: 0s - loss: 0.5150 - accuracy: 0.6875\n",
      "Epoch 00017: saving model to ./Hasil Model\\cp-0017.hdf5\n",
      "33/33 [==============================] - 0s 2ms/step - loss: 0.4688 - accuracy: 0.7850 - val_loss: 0.5423 - val_accuracy: 0.7419\n",
      "Epoch 18/50\n",
      "29/33 [=========================>....] - ETA: 0s - loss: 0.4668 - accuracy: 0.7759\n",
      "Epoch 00018: saving model to ./Hasil Model\\cp-0018.hdf5\n",
      "33/33 [==============================] - 0s 3ms/step - loss: 0.4636 - accuracy: 0.7812 - val_loss: 0.5378 - val_accuracy: 0.7527\n",
      "Epoch 19/50\n",
      " 1/33 [..............................] - ETA: 0s - loss: 0.4412 - accuracy: 0.7500\n",
      "Epoch 00019: saving model to ./Hasil Model\\cp-0019.hdf5\n",
      "33/33 [==============================] - 0s 2ms/step - loss: 0.4631 - accuracy: 0.7850 - val_loss: 0.5426 - val_accuracy: 0.7527\n",
      "Epoch 20/50\n",
      "31/33 [===========================>..] - ETA: 0s - loss: 0.4657 - accuracy: 0.7843\n",
      "Epoch 00020: saving model to ./Hasil Model\\cp-0020.hdf5\n",
      "33/33 [==============================] - 0s 2ms/step - loss: 0.4648 - accuracy: 0.7831 - val_loss: 0.5391 - val_accuracy: 0.7527\n",
      "Epoch 21/50\n",
      " 1/33 [..............................] - ETA: 0s - loss: 0.3564 - accuracy: 0.8125\n",
      "Epoch 00021: saving model to ./Hasil Model\\cp-0021.hdf5\n",
      "33/33 [==============================] - 0s 2ms/step - loss: 0.4592 - accuracy: 0.7946 - val_loss: 0.5393 - val_accuracy: 0.7527\n",
      "Epoch 22/50\n",
      " 1/33 [..............................] - ETA: 0s - loss: 0.4642 - accuracy: 0.6875\n",
      "Epoch 00022: saving model to ./Hasil Model\\cp-0022.hdf5\n",
      "33/33 [==============================] - 0s 2ms/step - loss: 0.4538 - accuracy: 0.7908 - val_loss: 0.5347 - val_accuracy: 0.7527\n",
      "Epoch 23/50\n",
      " 1/33 [..............................] - ETA: 0s - loss: 0.3922 - accuracy: 0.8750\n",
      "Epoch 00023: saving model to ./Hasil Model\\cp-0023.hdf5\n",
      "33/33 [==============================] - 0s 2ms/step - loss: 0.4545 - accuracy: 0.7850 - val_loss: 0.5347 - val_accuracy: 0.7419\n",
      "Epoch 24/50\n",
      " 1/33 [..............................] - ETA: 0s - loss: 0.5278 - accuracy: 0.6250\n",
      "Epoch 00024: saving model to ./Hasil Model\\cp-0024.hdf5\n",
      "33/33 [==============================] - 0s 2ms/step - loss: 0.4516 - accuracy: 0.7869 - val_loss: 0.5432 - val_accuracy: 0.7527\n",
      "Epoch 25/50\n",
      " 1/33 [..............................] - ETA: 0s - loss: 0.2790 - accuracy: 1.0000\n",
      "Epoch 00025: saving model to ./Hasil Model\\cp-0025.hdf5\n",
      "33/33 [==============================] - 0s 2ms/step - loss: 0.4479 - accuracy: 0.7985 - val_loss: 0.5353 - val_accuracy: 0.7527\n",
      "Epoch 26/50\n",
      " 1/33 [..............................] - ETA: 0s - loss: 0.4253 - accuracy: 0.7500\n",
      "Epoch 00026: saving model to ./Hasil Model\\cp-0026.hdf5\n",
      "33/33 [==============================] - 0s 2ms/step - loss: 0.4490 - accuracy: 0.7850 - val_loss: 0.5406 - val_accuracy: 0.7419\n",
      "Epoch 27/50\n",
      " 1/33 [..............................] - ETA: 0s - loss: 0.3649 - accuracy: 0.8125\n",
      "Epoch 00027: saving model to ./Hasil Model\\cp-0027.hdf5\n",
      "33/33 [==============================] - 0s 2ms/step - loss: 0.4427 - accuracy: 0.7965 - val_loss: 0.5364 - val_accuracy: 0.7419\n",
      "Epoch 28/50\n",
      " 1/33 [..............................] - ETA: 0s - loss: 0.2230 - accuracy: 0.9375\n",
      "Epoch 00028: saving model to ./Hasil Model\\cp-0028.hdf5\n",
      "33/33 [==============================] - 0s 2ms/step - loss: 0.4494 - accuracy: 0.7831 - val_loss: 0.5338 - val_accuracy: 0.7419\n",
      "Epoch 29/50\n",
      " 1/33 [..............................] - ETA: 0s - loss: 0.5046 - accuracy: 0.8125\n",
      "Epoch 00029: saving model to ./Hasil Model\\cp-0029.hdf5\n",
      "33/33 [==============================] - 0s 2ms/step - loss: 0.4420 - accuracy: 0.7754 - val_loss: 0.5398 - val_accuracy: 0.7527\n",
      "Epoch 30/50\n"
     ]
    },
    {
     "name": "stdout",
     "output_type": "stream",
     "text": [
      " 1/33 [..............................] - ETA: 0s - loss: 0.5510 - accuracy: 0.7500\n",
      "Epoch 00030: saving model to ./Hasil Model\\cp-0030.hdf5\n",
      "33/33 [==============================] - 0s 2ms/step - loss: 0.4579 - accuracy: 0.7927 - val_loss: 0.5301 - val_accuracy: 0.7634\n",
      "Epoch 31/50\n",
      " 1/33 [..............................] - ETA: 0s - loss: 0.3726 - accuracy: 0.8750\n",
      "Epoch 00031: saving model to ./Hasil Model\\cp-0031.hdf5\n",
      "33/33 [==============================] - 0s 2ms/step - loss: 0.4438 - accuracy: 0.7965 - val_loss: 0.5544 - val_accuracy: 0.7204\n",
      "Epoch 32/50\n",
      " 1/33 [..............................] - ETA: 0s - loss: 0.5749 - accuracy: 0.6875\n",
      "Epoch 00032: saving model to ./Hasil Model\\cp-0032.hdf5\n",
      "33/33 [==============================] - 0s 2ms/step - loss: 0.4414 - accuracy: 0.7946 - val_loss: 0.5297 - val_accuracy: 0.7527\n",
      "Epoch 33/50\n",
      " 1/33 [..............................] - ETA: 0s - loss: 0.3802 - accuracy: 0.8125\n",
      "Epoch 00033: saving model to ./Hasil Model\\cp-0033.hdf5\n",
      "33/33 [==============================] - 0s 2ms/step - loss: 0.4373 - accuracy: 0.8081 - val_loss: 0.5306 - val_accuracy: 0.7634\n",
      "Epoch 34/50\n",
      " 1/33 [..............................] - ETA: 0s - loss: 0.3893 - accuracy: 0.8125\n",
      "Epoch 00034: saving model to ./Hasil Model\\cp-0034.hdf5\n",
      "33/33 [==============================] - 0s 2ms/step - loss: 0.4380 - accuracy: 0.7927 - val_loss: 0.5325 - val_accuracy: 0.7527\n",
      "Epoch 35/50\n",
      " 1/33 [..............................] - ETA: 0s - loss: 0.6220 - accuracy: 0.6875\n",
      "Epoch 00035: saving model to ./Hasil Model\\cp-0035.hdf5\n",
      "33/33 [==============================] - 0s 2ms/step - loss: 0.4390 - accuracy: 0.8004 - val_loss: 0.5262 - val_accuracy: 0.7634\n",
      "Epoch 36/50\n",
      " 1/33 [..............................] - ETA: 0s - loss: 0.3396 - accuracy: 0.9375\n",
      "Epoch 00036: saving model to ./Hasil Model\\cp-0036.hdf5\n",
      "33/33 [==============================] - 0s 2ms/step - loss: 0.4402 - accuracy: 0.8081 - val_loss: 0.5440 - val_accuracy: 0.7527\n",
      "Epoch 37/50\n",
      " 1/33 [..............................] - ETA: 0s - loss: 0.3290 - accuracy: 0.9375\n",
      "Epoch 00037: saving model to ./Hasil Model\\cp-0037.hdf5\n",
      "33/33 [==============================] - 0s 2ms/step - loss: 0.4331 - accuracy: 0.7965 - val_loss: 0.5272 - val_accuracy: 0.7634\n",
      "Epoch 38/50\n",
      " 1/33 [..............................] - ETA: 0s - loss: 0.5705 - accuracy: 0.7500\n",
      "Epoch 00038: saving model to ./Hasil Model\\cp-0038.hdf5\n",
      "33/33 [==============================] - 0s 2ms/step - loss: 0.4362 - accuracy: 0.7869 - val_loss: 0.5232 - val_accuracy: 0.7634\n",
      "Epoch 39/50\n",
      " 1/33 [..............................] - ETA: 0s - loss: 0.3591 - accuracy: 0.8750\n",
      "Epoch 00039: saving model to ./Hasil Model\\cp-0039.hdf5\n",
      "33/33 [==============================] - 0s 2ms/step - loss: 0.4311 - accuracy: 0.7985 - val_loss: 0.5328 - val_accuracy: 0.7527\n",
      "Epoch 40/50\n",
      " 1/33 [..............................] - ETA: 0s - loss: 0.4027 - accuracy: 0.8125\n",
      "Epoch 00040: saving model to ./Hasil Model\\cp-0040.hdf5\n",
      "33/33 [==============================] - 0s 2ms/step - loss: 0.4296 - accuracy: 0.8157 - val_loss: 0.5312 - val_accuracy: 0.7634\n",
      "Epoch 41/50\n",
      " 1/33 [..............................] - ETA: 0s - loss: 0.3529 - accuracy: 0.8750\n",
      "Epoch 00041: saving model to ./Hasil Model\\cp-0041.hdf5\n",
      "33/33 [==============================] - 0s 2ms/step - loss: 0.4250 - accuracy: 0.8119 - val_loss: 0.5278 - val_accuracy: 0.7742\n",
      "Epoch 42/50\n",
      " 1/33 [..............................] - ETA: 0s - loss: 0.4430 - accuracy: 0.8125\n",
      "Epoch 00042: saving model to ./Hasil Model\\cp-0042.hdf5\n",
      "33/33 [==============================] - 0s 2ms/step - loss: 0.4297 - accuracy: 0.7927 - val_loss: 0.5361 - val_accuracy: 0.7527\n",
      "Epoch 43/50\n",
      " 1/33 [..............................] - ETA: 0s - loss: 0.3768 - accuracy: 0.8750\n",
      "Epoch 00043: saving model to ./Hasil Model\\cp-0043.hdf5\n",
      "33/33 [==============================] - 0s 1ms/step - loss: 0.4306 - accuracy: 0.7927 - val_loss: 0.5286 - val_accuracy: 0.7742\n",
      "Epoch 44/50\n",
      " 1/33 [..............................] - ETA: 0s - loss: 0.4374 - accuracy: 0.8750\n",
      "Epoch 00044: saving model to ./Hasil Model\\cp-0044.hdf5\n",
      "33/33 [==============================] - 0s 2ms/step - loss: 0.4227 - accuracy: 0.8081 - val_loss: 0.5269 - val_accuracy: 0.7849\n",
      "Epoch 45/50\n",
      " 1/33 [..............................] - ETA: 0s - loss: 0.2314 - accuracy: 0.9375\n",
      "Epoch 00045: saving model to ./Hasil Model\\cp-0045.hdf5\n",
      "33/33 [==============================] - 0s 2ms/step - loss: 0.4234 - accuracy: 0.8042 - val_loss: 0.5327 - val_accuracy: 0.7634\n",
      "Epoch 46/50\n",
      " 1/33 [..............................] - ETA: 0s - loss: 0.3857 - accuracy: 0.8750\n",
      "Epoch 00046: saving model to ./Hasil Model\\cp-0046.hdf5\n",
      "33/33 [==============================] - 0s 2ms/step - loss: 0.4263 - accuracy: 0.7927 - val_loss: 0.5304 - val_accuracy: 0.7849\n",
      "Epoch 47/50\n",
      " 1/33 [..............................] - ETA: 0s - loss: 0.3805 - accuracy: 0.8125\n",
      "Epoch 00047: saving model to ./Hasil Model\\cp-0047.hdf5\n",
      "33/33 [==============================] - 0s 2ms/step - loss: 0.4205 - accuracy: 0.8004 - val_loss: 0.5297 - val_accuracy: 0.7742\n",
      "Epoch 48/50\n",
      " 1/33 [..............................] - ETA: 0s - loss: 0.5211 - accuracy: 0.8125\n",
      "Epoch 00048: saving model to ./Hasil Model\\cp-0048.hdf5\n",
      "33/33 [==============================] - 0s 2ms/step - loss: 0.4290 - accuracy: 0.7985 - val_loss: 0.5259 - val_accuracy: 0.7742\n",
      "Epoch 49/50\n",
      " 1/33 [..............................] - ETA: 0s - loss: 0.3505 - accuracy: 0.8750\n",
      "Epoch 00049: saving model to ./Hasil Model\\cp-0049.hdf5\n",
      "33/33 [==============================] - 0s 2ms/step - loss: 0.4209 - accuracy: 0.8081 - val_loss: 0.5282 - val_accuracy: 0.7742\n",
      "Epoch 50/50\n",
      " 1/33 [..............................] - ETA: 0s - loss: 0.4533 - accuracy: 0.8125\n",
      "Epoch 00050: saving model to ./Hasil Model\\cp-0050.hdf5\n",
      "33/33 [==============================] - 0s 1ms/step - loss: 0.4172 - accuracy: 0.8119 - val_loss: 0.5270 - val_accuracy: 0.8065\n"
     ]
    }
   ],
   "source": [
    "history = model.fit(X_train,y_train,validation_split=0.15, epochs = 50, batch_size = 16, verbose=1, callbacks = [cp_callback])"
   ]
  },
  {
   "cell_type": "code",
   "execution_count": 57,
   "metadata": {
    "id": "O7gavl5jIuH2",
    "outputId": "039d6a29-f781-4011-f1db-ea6cac9f752f"
   },
   "outputs": [
    {
     "data": {
      "image/png": "[encoded data removed]",
      "text/plain": [
       "<Figure size 432x288 with 1 Axes>"
      ]
     },
     "metadata": {
      "needs_background": "light"
     },
     "output_type": "display_data"
    }
   ],
   "source": [
    "plt.plot(history.history['accuracy'], label = 'train accuracy')\n",
    "plt.plot(history.history['val_accuracy'], label = 'val accuracy')\n",
    "plt.title('Model Accuracy')\n",
    "plt.ylabel('Accuraacy')\n",
    "plt.xlabel('Epoch')\n",
    "plt.legend()\n",
    "plt.show()"
   ]
  },
  {
   "cell_type": "code",
   "execution_count": 58,
   "metadata": {
    "id": "aoXyLP51IuH3",
    "outputId": "8b0c5a12-83f7-4d10-fa2a-4d5aa510bd4c"
   },
   "outputs": [
    {
     "data": {
      "image/png": "[encoded data removed]",
      "text/plain": [
       "<Figure size 432x288 with 1 Axes>"
      ]
     },
     "metadata": {
      "needs_background": "light"
     },
     "output_type": "display_data"
    }
   ],
   "source": [
    "plt.plot(history.history['loss'], label = 'train loss')\n",
    "plt.plot(history.history['val_loss'], label = 'val loss')\n",
    "plt.title('Model Loss')\n",
    "plt.ylabel('Loss')\n",
    "plt.xlabel('Epoch')\n",
    "plt.legend()\n",
    "plt.show()"
   ]
  },
  {
   "cell_type": "code",
   "execution_count": 59,
   "metadata": {
    "id": "ae-zWEj1IuH4",
    "outputId": "41ba6ae2-0e84-41f2-a60f-f2dc62720832"
   },
   "outputs": [
    {
     "data": {
      "text/plain": [
       "array([1, 0, 0, 0, 0, 0, 0, 0, 0, 1, 0, 0, 1, 0, 0, 1, 1, 0, 0, 1, 0, 1,\n",
       "       0, 0, 0, 1, 0, 0, 1, 1, 0, 0, 0, 0, 0, 0, 0, 0, 1, 0, 1, 0, 0, 0,\n",
       "       1, 0, 0, 0, 1, 0, 0, 1, 1, 0, 0, 0, 0, 0, 0, 0, 0, 0, 0, 0, 0, 1,\n",
       "       1, 0, 0, 1, 1, 0, 0, 1, 0, 0, 1, 1, 0, 0, 0, 1, 0, 0, 0, 1, 1, 0,\n",
       "       1, 0, 0, 0, 0, 0, 0, 0, 1, 0, 0, 0, 0, 0, 1, 0, 0, 1, 1, 1, 0, 0,\n",
       "       0, 0, 0, 0, 0, 0, 0, 0, 0, 1, 0, 0, 0, 1, 0, 1, 0, 0, 0, 0, 1, 0,\n",
       "       1, 0, 0, 0, 1, 1, 1, 1, 0, 0, 1, 0, 1, 0, 0, 1, 0, 0, 0, 0, 1, 0],\n",
       "      dtype=int64)"
      ]
     },
     "execution_count": 59,
     "metadata": {},
     "output_type": "execute_result"
    }
   ],
   "source": [
    "pred = np.argmax(model.predict(X_test),axis=1)\n",
    "pred"
   ]
  },
  {
   "cell_type": "code",
   "execution_count": 60,
   "metadata": {
    "id": "mxmJtTyYIuH6"
   },
   "outputs": [],
   "source": [
    "from sklearn.metrics import classification_report"
   ]
  },
  {
   "cell_type": "code",
   "execution_count": 61,
   "metadata": {
    "id": "O1MBgzSaIuH7",
    "outputId": "8fa49e8d-fea1-4632-98b9-114cf846bf5c"
   },
   "outputs": [
    {
     "name": "stdout",
     "output_type": "stream",
     "text": [
      "              precision    recall  f1-score   support\n",
      "\n",
      "           0       0.75      0.86      0.80        95\n",
      "           1       0.71      0.54      0.62        59\n",
      "\n",
      "    accuracy                           0.74       154\n",
      "   macro avg       0.73      0.70      0.71       154\n",
      "weighted avg       0.74      0.74      0.73       154\n",
      "\n"
     ]
    }
   ],
   "source": [
    "print(classification_report(y_test,pred))"
   ]
  },
  {
   "cell_type": "markdown",
   "metadata": {
    "id": "HqjLOjUvIuH8"
   },
   "source": [
    "# Kasus Klasifikasi Gambar Covid-19"
   ]
  },
  {
   "cell_type": "code",
   "execution_count": 62,
   "metadata": {
    "id": "JLQfnIpKIuH9"
   },
   "outputs": [],
   "source": [
    "import cv2"
   ]
  },
  {
   "cell_type": "code",
   "execution_count": 63,
   "metadata": {
    "id": "mc7MhMCsIuH9"
   },
   "outputs": [],
   "source": [
    "train_covid = 'Covid19-dataset/train/Covid'\n",
    "train_normal = 'Covid19-dataset/train/Normal'\n",
    "train_pneumonia = 'Covid19-dataset/train/Viral Pneumonia'\n",
    "\n",
    "test_covid = 'Covid19-dataset/test/Covid'\n",
    "test_normal = 'Covid19-dataset/test/Normal'\n",
    "test_pneumonia = 'Covid19-dataset/test/Viral Pneumonia'"
   ]
  },
  {
   "cell_type": "markdown",
   "metadata": {
    "id": "i0Aivms8IuH9"
   },
   "source": [
    "## Load Train Data"
   ]
  },
  {
   "cell_type": "code",
   "execution_count": 64,
   "metadata": {
    "id": "csqJn5taIuH-"
   },
   "outputs": [],
   "source": [
    "covid_train = []\n",
    "covid_label = np.ones(len(os.listdir(train_covid)))\n",
    "\n",
    "for i in os.listdir(train_covid):\n",
    "    img = cv2.imread(train_covid + '/' + i)\n",
    "    img = cv2.resize(img, (50,50), interpolation = cv2.INTER_AREA)\n",
    "    img = img / 255\n",
    "    covid_train.append(img)"
   ]
  },
  {
   "cell_type": "code",
   "execution_count": 65,
   "metadata": {
    "id": "hoZBWTDHIuH-"
   },
   "outputs": [],
   "source": [
    "normal_train = []\n",
    "normal_label = np.zeros(len(os.listdir(train_normal)))\n",
    "\n",
    "for i in os.listdir(train_normal):\n",
    "    img = cv2.imread(train_normal + '/' + i)\n",
    "    img = cv2.resize(img, (50,50), interpolation = cv2.INTER_AREA)\n",
    "    img = img / 255\n",
    "    normal_train.append(img)"
   ]
  },
  {
   "cell_type": "code",
   "execution_count": 66,
   "metadata": {
    "id": "yASI4oVRIuH-"
   },
   "outputs": [],
   "source": [
    "pneumonia_train = []\n",
    "pneumonia_label = np.full(len(os.listdir(train_pneumonia)),2)\n",
    "\n",
    "for i in os.listdir(train_pneumonia):\n",
    "    img = cv2.imread(train_pneumonia + '/' + i)\n",
    "    img = cv2.resize(img, (50,50), interpolation = cv2.INTER_AREA)\n",
    "    img = img / 255\n",
    "    pneumonia_train.append(img)"
   ]
  },
  {
   "cell_type": "markdown",
   "metadata": {
    "id": "Lr60p8z9IuH-"
   },
   "source": [
    "## Load Data Test"
   ]
  },
  {
   "cell_type": "code",
   "execution_count": 67,
   "metadata": {
    "id": "G_aVTUVLIuH-"
   },
   "outputs": [],
   "source": [
    "covid_test = []\n",
    "covid_label_test = np.ones(len(os.listdir(test_covid)))\n",
    "\n",
    "for i in os.listdir(test_covid):\n",
    "    img = cv2.imread(test_covid + '/' + i)\n",
    "    img = cv2.resize(img, (50,50), interpolation = cv2.INTER_AREA)\n",
    "    img = img / 255\n",
    "    covid_test.append(img)"
   ]
  },
  {
   "cell_type": "code",
   "execution_count": 68,
   "metadata": {
    "id": "QQkjer99IuH-"
   },
   "outputs": [],
   "source": [
    "normal_test = []\n",
    "normal_label_test = np.zeros(len(os.listdir(test_normal)))\n",
    "\n",
    "for i in os.listdir(test_normal):\n",
    "    img = cv2.imread(test_normal + '/' + i)\n",
    "    img = cv2.resize(img, (50,50), interpolation = cv2.INTER_AREA)\n",
    "    img = img / 255\n",
    "    normal_test.append(img)"
   ]
  },
  {
   "cell_type": "code",
   "execution_count": 69,
   "metadata": {
    "id": "4GXiaiaXIuH_"
   },
   "outputs": [],
   "source": [
    "pneumonia_test = []\n",
    "pneumonia_label_test = np.full(len(os.listdir(test_pneumonia)),2)\n",
    "\n",
    "for i in os.listdir(test_pneumonia):\n",
    "    img = cv2.imread(test_pneumonia + '/' + i)\n",
    "    img = cv2.resize(img, (50,50), interpolation = cv2.INTER_AREA)\n",
    "    img = img / 255\n",
    "    pneumonia_test.append(img)"
   ]
  },
  {
   "cell_type": "code",
   "execution_count": 70,
   "metadata": {
    "id": "-U0yPqDmIuH_",
    "outputId": "d45dc781-3b4b-46be-8c3e-f43d5c150391"
   },
   "outputs": [
    {
     "data": {
      "text/plain": [
       "<matplotlib.image.AxesImage at 0x1dffdeaa9d0>"
      ]
     },
     "execution_count": 70,
     "metadata": {},
     "output_type": "execute_result"
    },
    {
     "data": {
      "image/png": "[encoded data removed]",
      "text/plain": [
       "<Figure size 432x288 with 1 Axes>"
      ]
     },
     "metadata": {
      "needs_background": "light"
     },
     "output_type": "display_data"
    }
   ],
   "source": [
    "plt.imshow(covid_train[0])"
   ]
  },
  {
   "cell_type": "markdown",
   "metadata": {
    "id": "7srvE6GuIuH_"
   },
   "source": [
    "# Construct Data"
   ]
  },
  {
   "cell_type": "code",
   "execution_count": 71,
   "metadata": {
    "id": "xM3idCJWIuH_"
   },
   "outputs": [],
   "source": [
    "X_train = np.concatenate((covid_train, normal_train, pneumonia_train), axis = 0)\n",
    "y_train = np.concatenate((covid_label, normal_label, pneumonia_label), axis = 0)"
   ]
  },
  {
   "cell_type": "code",
   "execution_count": 72,
   "metadata": {
    "id": "PpGfRXNAIuH_",
    "outputId": "5f7c5c1e-db6b-474d-9f6d-186190d56009"
   },
   "outputs": [
    {
     "data": {
      "text/plain": [
       "251"
      ]
     },
     "execution_count": 72,
     "metadata": {},
     "output_type": "execute_result"
    }
   ],
   "source": [
    "len(y_train)"
   ]
  },
  {
   "cell_type": "code",
   "execution_count": 73,
   "metadata": {
    "id": "60AtGYo6IuIA"
   },
   "outputs": [],
   "source": [
    "X_test = np.concatenate((covid_test, normal_test, pneumonia_test), axis = 0)\n",
    "y_test = np.concatenate((covid_label_test, normal_label_test, pneumonia_label_test), axis = 0)"
   ]
  },
  {
   "cell_type": "code",
   "execution_count": 74,
   "metadata": {
    "id": "hbspLaLWIuIA",
    "outputId": "a2b7fa6f-d723-409d-90b1-09533e10a987"
   },
   "outputs": [
    {
     "data": {
      "text/plain": [
       "66"
      ]
     },
     "execution_count": 74,
     "metadata": {},
     "output_type": "execute_result"
    }
   ],
   "source": [
    "len(y_test)"
   ]
  },
  {
   "cell_type": "code",
   "execution_count": 75,
   "metadata": {
    "id": "y-CzRTcfIuIB",
    "outputId": "6e9548ec-fd78-4f98-e205-e9b09a2305c5"
   },
   "outputs": [
    {
     "data": {
      "text/plain": [
       "(251, 50, 50, 3)"
      ]
     },
     "execution_count": 75,
     "metadata": {},
     "output_type": "execute_result"
    }
   ],
   "source": [
    "X_train.shape"
   ]
  },
  {
   "cell_type": "code",
   "execution_count": 76,
   "metadata": {
    "id": "WP6t1uthIuIB",
    "outputId": "370b2510-b85b-4f5f-a89b-61b8ff144c0f"
   },
   "outputs": [
    {
     "data": {
      "text/plain": [
       "(66, 50, 50, 3)"
      ]
     },
     "execution_count": 76,
     "metadata": {},
     "output_type": "execute_result"
    }
   ],
   "source": [
    "X_test.shape"
   ]
  },
  {
   "cell_type": "markdown",
   "metadata": {
    "id": "IeK4AZ3zIuIB"
   },
   "source": [
    "# CNN"
   ]
  },
  {
   "cell_type": "code",
   "execution_count": 77,
   "metadata": {
    "id": "LEdL3RczIuIB"
   },
   "outputs": [],
   "source": [
    "from keras.models import Sequential\n",
    "from keras.layers import Dense, Flatten, Conv2D, MaxPool2D"
   ]
  },
  {
   "cell_type": "code",
   "execution_count": 78,
   "metadata": {
    "id": "n3l0byFZIuIB"
   },
   "outputs": [],
   "source": [
    "models = Sequential()\n",
    "\n",
    "models.add(Conv2D(filters = 16, kernel_size = (4,4), activation = 'relu', input_shape = (50,50,3)))\n",
    "models.add(MaxPool2D(pool_size = (2,2)))\n",
    "models.add(Conv2D(filters = 16, kernel_size = (3,3), activation = 'relu'))\n",
    "models.add(MaxPool2D(pool_size = (2,2), strides = (2,2)))\n",
    "\n",
    "models.add(Flatten())\n",
    "\n",
    "models.add(Dense(256, activation = 'relu'))\n",
    "models.add(Dense(3, activation = 'softmax'))"
   ]
  },
  {
   "cell_type": "code",
   "execution_count": 79,
   "metadata": {
    "id": "IIbJUfAJIuIC",
    "outputId": "676dc289-129b-4420-d92a-598191701c37"
   },
   "outputs": [
    {
     "name": "stdout",
     "output_type": "stream",
     "text": [
      "Model: \"sequential_2\"\n",
      "_________________________________________________________________\n",
      "Layer (type)                 Output Shape              Param #   \n",
      "=================================================================\n",
      "conv2d (Conv2D)              (None, 47, 47, 16)        784       \n",
      "_________________________________________________________________\n",
      "max_pooling2d (MaxPooling2D) (None, 23, 23, 16)        0         \n",
      "_________________________________________________________________\n",
      "conv2d_1 (Conv2D)            (None, 21, 21, 16)        2320      \n",
      "_________________________________________________________________\n",
      "max_pooling2d_1 (MaxPooling2 (None, 10, 10, 16)        0         \n",
      "_________________________________________________________________\n",
      "flatten (Flatten)            (None, 1600)              0         \n",
      "_________________________________________________________________\n",
      "dense_8 (Dense)              (None, 256)               409856    \n",
      "_________________________________________________________________\n",
      "dense_9 (Dense)              (None, 3)                 771       \n",
      "=================================================================\n",
      "Total params: 413,731\n",
      "Trainable params: 413,731\n",
      "Non-trainable params: 0\n",
      "_________________________________________________________________\n"
     ]
    }
   ],
   "source": [
    "models.summary()"
   ]
  },
  {
   "cell_type": "code",
   "execution_count": 80,
   "metadata": {
    "id": "D3KNHskHIuIC"
   },
   "outputs": [],
   "source": [
    "models.compile(optimizer = 'adam', loss = 'sparse_categorical_crossentropy', metrics = ['accuracy'])"
   ]
  },
  {
   "cell_type": "code",
   "execution_count": 81,
   "metadata": {
    "id": "VTpWRxb0IuID",
    "outputId": "08ee510e-8f38-4beb-8982-0665a3407502"
   },
   "outputs": [
    {
     "name": "stdout",
     "output_type": "stream",
     "text": [
      "Epoch 1/50\n",
      "23/23 [==============================] - 1s 28ms/step - loss: 0.9301 - accuracy: 0.5911 - val_loss: 0.9422 - val_accuracy: 0.6923\n",
      "Epoch 2/50\n",
      "23/23 [==============================] - 0s 20ms/step - loss: 0.4083 - accuracy: 0.8667 - val_loss: 0.6326 - val_accuracy: 0.7308\n",
      "Epoch 3/50\n",
      "23/23 [==============================] - 0s 20ms/step - loss: 0.2944 - accuracy: 0.8800 - val_loss: 0.3941 - val_accuracy: 0.8462\n",
      "Epoch 4/50\n",
      "23/23 [==============================] - 0s 21ms/step - loss: 0.2021 - accuracy: 0.9244 - val_loss: 0.2552 - val_accuracy: 0.8846\n",
      "Epoch 5/50\n",
      "23/23 [==============================] - 1s 22ms/step - loss: 0.2065 - accuracy: 0.9200 - val_loss: 0.2475 - val_accuracy: 0.9231\n",
      "Epoch 6/50\n",
      "23/23 [==============================] - 0s 20ms/step - loss: 0.1612 - accuracy: 0.9422 - val_loss: 0.5995 - val_accuracy: 0.8462\n",
      "Epoch 7/50\n",
      "23/23 [==============================] - 0s 21ms/step - loss: 0.1329 - accuracy: 0.9467 - val_loss: 0.2192 - val_accuracy: 0.8846\n",
      "Epoch 8/50\n",
      "23/23 [==============================] - 0s 22ms/step - loss: 0.0696 - accuracy: 0.9867 - val_loss: 0.2246 - val_accuracy: 0.8846\n",
      "Epoch 9/50\n",
      "23/23 [==============================] - 1s 23ms/step - loss: 0.1036 - accuracy: 0.9467 - val_loss: 0.1942 - val_accuracy: 0.9231\n",
      "Epoch 10/50\n",
      "23/23 [==============================] - 0s 21ms/step - loss: 0.0840 - accuracy: 0.9644 - val_loss: 0.2655 - val_accuracy: 0.8846\n",
      "Epoch 11/50\n",
      "23/23 [==============================] - 0s 21ms/step - loss: 0.0996 - accuracy: 0.9644 - val_loss: 0.3801 - val_accuracy: 0.8846\n",
      "Epoch 12/50\n",
      "23/23 [==============================] - 0s 19ms/step - loss: 0.0436 - accuracy: 0.9822 - val_loss: 0.2936 - val_accuracy: 0.8846\n",
      "Epoch 13/50\n",
      "23/23 [==============================] - 0s 20ms/step - loss: 0.0424 - accuracy: 0.9911 - val_loss: 0.4872 - val_accuracy: 0.8846\n",
      "Epoch 14/50\n",
      "23/23 [==============================] - 0s 19ms/step - loss: 0.0255 - accuracy: 0.9956 - val_loss: 0.1993 - val_accuracy: 0.8846\n",
      "Epoch 15/50\n",
      "23/23 [==============================] - 0s 20ms/step - loss: 0.0142 - accuracy: 1.0000 - val_loss: 0.4826 - val_accuracy: 0.8846\n",
      "Epoch 16/50\n",
      "23/23 [==============================] - 1s 23ms/step - loss: 0.0081 - accuracy: 1.0000 - val_loss: 0.5014 - val_accuracy: 0.8846\n",
      "Epoch 17/50\n",
      "23/23 [==============================] - 1s 23ms/step - loss: 0.0083 - accuracy: 1.0000 - val_loss: 0.5886 - val_accuracy: 0.8846\n",
      "Epoch 18/50\n",
      "23/23 [==============================] - 0s 21ms/step - loss: 0.0079 - accuracy: 1.0000 - val_loss: 0.4409 - val_accuracy: 0.8846\n",
      "Epoch 19/50\n",
      "23/23 [==============================] - 0s 22ms/step - loss: 0.0046 - accuracy: 1.0000 - val_loss: 0.6384 - val_accuracy: 0.8846\n",
      "Epoch 20/50\n",
      "23/23 [==============================] - 0s 21ms/step - loss: 0.0038 - accuracy: 1.0000 - val_loss: 0.5412 - val_accuracy: 0.8846\n",
      "Epoch 21/50\n",
      "23/23 [==============================] - 0s 20ms/step - loss: 0.0030 - accuracy: 1.0000 - val_loss: 0.5434 - val_accuracy: 0.8846\n",
      "Epoch 22/50\n",
      "23/23 [==============================] - 0s 19ms/step - loss: 0.0025 - accuracy: 1.0000 - val_loss: 0.6415 - val_accuracy: 0.8846\n",
      "Epoch 23/50\n",
      "23/23 [==============================] - 1s 22ms/step - loss: 0.0019 - accuracy: 1.0000 - val_loss: 0.6443 - val_accuracy: 0.8846\n",
      "Epoch 24/50\n",
      "23/23 [==============================] - 0s 21ms/step - loss: 0.0018 - accuracy: 1.0000 - val_loss: 0.6639 - val_accuracy: 0.8846\n",
      "Epoch 25/50\n",
      "23/23 [==============================] - 1s 23ms/step - loss: 0.0016 - accuracy: 1.0000 - val_loss: 0.6569 - val_accuracy: 0.8846\n",
      "Epoch 26/50\n",
      "23/23 [==============================] - 0s 20ms/step - loss: 0.0013 - accuracy: 1.0000 - val_loss: 0.6846 - val_accuracy: 0.8846\n",
      "Epoch 27/50\n",
      "23/23 [==============================] - 0s 21ms/step - loss: 0.0013 - accuracy: 1.0000 - val_loss: 0.6456 - val_accuracy: 0.8846\n",
      "Epoch 28/50\n",
      "23/23 [==============================] - 0s 20ms/step - loss: 0.0011 - accuracy: 1.0000 - val_loss: 0.6716 - val_accuracy: 0.8846\n",
      "Epoch 29/50\n",
      "23/23 [==============================] - 0s 20ms/step - loss: 0.0011 - accuracy: 1.0000 - val_loss: 0.6830 - val_accuracy: 0.8846\n",
      "Epoch 30/50\n",
      "23/23 [==============================] - 0s 18ms/step - loss: 0.0011 - accuracy: 1.0000 - val_loss: 0.7158 - val_accuracy: 0.8846\n",
      "Epoch 31/50\n",
      "23/23 [==============================] - 0s 19ms/step - loss: 0.0012 - accuracy: 1.0000 - val_loss: 0.6726 - val_accuracy: 0.8846\n",
      "Epoch 32/50\n",
      "23/23 [==============================] - 0s 19ms/step - loss: 9.3347e-04 - accuracy: 1.0000 - val_loss: 0.6702 - val_accuracy: 0.8846\n",
      "Epoch 33/50\n",
      "23/23 [==============================] - 0s 17ms/step - loss: 7.6654e-04 - accuracy: 1.0000 - val_loss: 0.7303 - val_accuracy: 0.8846\n",
      "Epoch 34/50\n",
      "23/23 [==============================] - 0s 16ms/step - loss: 8.0585e-04 - accuracy: 1.0000 - val_loss: 0.7286 - val_accuracy: 0.8846\n",
      "Epoch 35/50\n",
      "23/23 [==============================] - 0s 17ms/step - loss: 6.7577e-04 - accuracy: 1.0000 - val_loss: 0.7124 - val_accuracy: 0.8846\n",
      "Epoch 36/50\n",
      "23/23 [==============================] - 0s 18ms/step - loss: 6.1654e-04 - accuracy: 1.0000 - val_loss: 0.7584 - val_accuracy: 0.8846\n",
      "Epoch 37/50\n",
      "23/23 [==============================] - 0s 17ms/step - loss: 6.3707e-04 - accuracy: 1.0000 - val_loss: 0.7304 - val_accuracy: 0.8846\n",
      "Epoch 38/50\n",
      "23/23 [==============================] - 0s 17ms/step - loss: 5.4595e-04 - accuracy: 1.0000 - val_loss: 0.7804 - val_accuracy: 0.8846\n",
      "Epoch 39/50\n",
      "23/23 [==============================] - 0s 16ms/step - loss: 5.1853e-04 - accuracy: 1.0000 - val_loss: 0.7539 - val_accuracy: 0.8846\n",
      "Epoch 40/50\n",
      "23/23 [==============================] - 0s 18ms/step - loss: 4.9547e-04 - accuracy: 1.0000 - val_loss: 0.7839 - val_accuracy: 0.8846\n",
      "Epoch 41/50\n",
      "23/23 [==============================] - 0s 19ms/step - loss: 4.9425e-04 - accuracy: 1.0000 - val_loss: 0.7544 - val_accuracy: 0.8846\n",
      "Epoch 42/50\n",
      "23/23 [==============================] - 0s 17ms/step - loss: 4.5281e-04 - accuracy: 1.0000 - val_loss: 0.8035 - val_accuracy: 0.8846\n",
      "Epoch 43/50\n",
      "23/23 [==============================] - 0s 18ms/step - loss: 4.1035e-04 - accuracy: 1.0000 - val_loss: 0.7954 - val_accuracy: 0.8846\n",
      "Epoch 44/50\n",
      "23/23 [==============================] - 0s 18ms/step - loss: 3.9348e-04 - accuracy: 1.0000 - val_loss: 0.8108 - val_accuracy: 0.8846\n",
      "Epoch 45/50\n",
      "23/23 [==============================] - 0s 19ms/step - loss: 3.8139e-04 - accuracy: 1.0000 - val_loss: 0.7974 - val_accuracy: 0.8846\n",
      "Epoch 46/50\n",
      "23/23 [==============================] - 0s 18ms/step - loss: 3.6877e-04 - accuracy: 1.0000 - val_loss: 0.7851 - val_accuracy: 0.8846\n",
      "Epoch 47/50\n",
      "23/23 [==============================] - 0s 19ms/step - loss: 3.3579e-04 - accuracy: 1.0000 - val_loss: 0.7917 - val_accuracy: 0.8846\n",
      "Epoch 48/50\n",
      "23/23 [==============================] - 0s 18ms/step - loss: 3.3290e-04 - accuracy: 1.0000 - val_loss: 0.8170 - val_accuracy: 0.8846\n",
      "Epoch 49/50\n",
      "23/23 [==============================] - 0s 18ms/step - loss: 3.0729e-04 - accuracy: 1.0000 - val_loss: 0.8094 - val_accuracy: 0.8846\n",
      "Epoch 50/50\n",
      "23/23 [==============================] - 0s 17ms/step - loss: 2.9443e-04 - accuracy: 1.0000 - val_loss: 0.8341 - val_accuracy: 0.8846\n"
     ]
    }
   ],
   "source": [
    "history1 = models.fit(X_train, y_train, epochs = 50, validation_split = 0.1, batch_size = 10)"
   ]
  },
  {
   "cell_type": "code",
   "execution_count": 82,
   "metadata": {
    "id": "FPj4yTxvIuID",
    "outputId": "ce1f6485-63e7-4f23-e8d6-a019dd435932"
   },
   "outputs": [
    {
     "data": {
      "text/plain": [
       "array([1, 1, 1, 1, 1, 1, 1, 1, 1, 0, 1, 1, 1, 1, 1, 1, 1, 1, 1, 1, 1, 1,\n",
       "       1, 1, 1, 1, 0, 0, 0, 2, 0, 0, 0, 0, 0, 2, 2, 0, 0, 0, 0, 0, 0, 0,\n",
       "       0, 0, 2, 2, 2, 2, 2, 2, 2, 2, 2, 2, 2, 2, 2, 2, 2, 1, 2, 0, 2, 0],\n",
       "      dtype=int64)"
      ]
     },
     "execution_count": 82,
     "metadata": {},
     "output_type": "execute_result"
    }
   ],
   "source": [
    "pred1 = np.argmax(models.predict(X_test), axis = 1)\n",
    "pred1"
   ]
  },
  {
   "cell_type": "code",
   "execution_count": 83,
   "metadata": {
    "id": "gYg8GldqIuIE",
    "outputId": "36ee94fa-1e2b-4d07-9964-514fcff8e3e3"
   },
   "outputs": [
    {
     "name": "stdout",
     "output_type": "stream",
     "text": [
      "              precision    recall  f1-score   support\n",
      "\n",
      "         0.0       0.85      0.85      0.85        20\n",
      "         1.0       0.96      0.96      0.96        26\n",
      "         2.0       0.85      0.85      0.85        20\n",
      "\n",
      "    accuracy                           0.89        66\n",
      "   macro avg       0.89      0.89      0.89        66\n",
      "weighted avg       0.89      0.89      0.89        66\n",
      "\n"
     ]
    }
   ],
   "source": [
    "print(classification_report(y_test, pred1))"
   ]
  },
  {
   "cell_type": "code",
   "execution_count": null,
   "metadata": {
    "id": "YNgvrSQOIuIE"
   },
   "outputs": [],
   "source": []
  }
 ],
 "metadata": {
  "colab": {
   "name": "DNN & CNN.ipynb",
   "provenance": []
  },
  "kernelspec": {
   "display_name": "Python 3",
   "language": "python",
   "name": "python3"
  },
  "language_info": {
   "codemirror_mode": {
    "name": "ipython",
    "version": 3
   },
   "file_extension": ".py",
   "mimetype": "text/x-python",
   "name": "python",
   "nbconvert_exporter": "python",
   "pygments_lexer": "ipython3",
   "version": "3.8.8"
  }
 },
 "nbformat": 4,
 "nbformat_minor": 1
}
