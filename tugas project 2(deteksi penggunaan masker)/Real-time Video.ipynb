{
 "cells": [
  {
   "cell_type": "code",
   "execution_count": 1,
   "source": [
    "import cv2\r\n",
    "import numpy as np\r\n",
    "from tensorflow.keras.models import load_model\r\n",
    "import imutils, time\r\n",
    "\r\n",
    "face_cascade = cv2.CascadeClassifier('haarcascade_frontalface_default.xml')\r\n",
    "\r\n",
    "model = load_model('face_recognition.h5')\r\n",
    "\r\n",
    "video_capture = cv2.VideoCapture(0)\r\n",
    "\r\n",
    "while True:\r\n",
    "    ret, frame =video_capture.read()\r\n",
    "    if not ret:\r\n",
    "        print(':(')\r\n",
    "        break\r\n",
    "        \r\n",
    "    res_frame = cv2.resize(frame, (frame.shape[1] // 4, frame.shape[0] // 4))\r\n",
    "    faces = face_cascade.detectMultiScale(res_frame)\r\n",
    "    for f in faces:\r\n",
    "        start_time = time.time()\r\n",
    "        (x, y, w, h) = [v * 4 for v in f] \r\n",
    "        face_img = frame[y:y+h, x:x+w]\r\n",
    "        resized = cv2.resize(face_img,(224,224))\r\n",
    "        normalized = resized/255.0\r\n",
    "        reshaped = np.reshape(normalized,(1,224,224,3))\r\n",
    "        reshaped = np.vstack([reshaped])\r\n",
    "        result = model.predict(reshaped)\r\n",
    "        result = np.argmax(result, axis=1)\r\n",
    "#         actual.append(true_act)\r\n",
    "        \r\n",
    "        if result >= 0.8:\r\n",
    "            prediction = 'Tidak pakai masker'\r\n",
    "            cv2.rectangle(frame,(x,y),(x+w,y+h),(0,0,255),2)\r\n",
    "            cv2.putText(frame, prediction, (x, y-10),cv2.FONT_HERSHEY_SIMPLEX,0.8,(0,0,255),2)\r\n",
    "        else:\r\n",
    "            prediction = 'Pakai masker'\r\n",
    "            cv2.rectangle(frame,(x,y),(x+w,y+h),(0,255,0),2)\r\n",
    "            cv2.putText(frame, prediction, (x, y-10),cv2.FONT_HERSHEY_SIMPLEX,0.8,(0,255,0),2)\r\n",
    "        \r\n",
    "        runpredict = round((time.time() - start_time), 3)\r\n",
    "#         sumRun = sumRun + runpredict;\r\n",
    "#         count += 1\r\n",
    "\r\n",
    "    cv2.imshow('Face mask detector', frame)\r\n",
    "\r\n",
    "    if cv2.waitKey(1) == 27:\r\n",
    "        break\r\n",
    "    if cv2.getWindowProperty('Face mask detector',cv2.WND_PROP_VISIBLE) < 1:        \r\n",
    "        break\r\n",
    "        \r\n",
    "video_capture.release()\r\n",
    "cv2.destroyAllWindows()"
   ],
   "outputs": [],
   "metadata": {}
  },
  {
   "cell_type": "code",
   "execution_count": null,
   "source": [],
   "outputs": [],
   "metadata": {}
  },
  {
   "cell_type": "code",
   "execution_count": null,
   "source": [],
   "outputs": [],
   "metadata": {}
  }
 ],
 "metadata": {
  "kernelspec": {
   "name": "python3",
   "display_name": "Python 3.8.8 64-bit ('base': conda)"
  },
  "language_info": {
   "codemirror_mode": {
    "name": "ipython",
    "version": 3
   },
   "file_extension": ".py",
   "mimetype": "text/x-python",
   "name": "python",
   "nbconvert_exporter": "python",
   "pygments_lexer": "ipython3",
   "version": "3.8.8"
  },
  "interpreter": {
   "hash": "31ff804e05c542abfdab620000e5333bc9afc6a565bbee95afa27485d8eec998"
  }
 },
 "nbformat": 4,
 "nbformat_minor": 4
}